{
 "cells": [
  {
   "cell_type": "code",
   "execution_count": 1,
   "metadata": {},
   "outputs": [
    {
     "name": "stderr",
     "output_type": "stream",
     "text": [
      "x:\\Anaconda3\\envs\\pytorch3\\lib\\site-packages\\tqdm\\auto.py:21: TqdmWarning: IProgress not found. Please update jupyter and ipywidgets. See https://ipywidgets.readthedocs.io/en/stable/user_install.html\n",
      "  from .autonotebook import tqdm as notebook_tqdm\n",
      "Skipped loading some Tensorflow models, missing a dependency. No module named 'tensorflow'\n",
      "x:\\Anaconda3\\envs\\pytorch3\\lib\\site-packages\\torchaudio\\backend\\utils.py:74: UserWarning: No audio backend is available.\n",
      "  warnings.warn(\"No audio backend is available.\")\n",
      "Skipped loading some Jax models, missing a dependency. No module named 'jax'\n",
      "Skipped loading some PyTorch models, missing a dependency. No module named 'tensorflow'\n"
     ]
    }
   ],
   "source": [
    "import os\n",
    "\n",
    "import numpy as np\n",
    "import pandas as pd\n",
    "\n",
    "from typing import List\n",
    "\n",
    "# import molnet loaders from deepchem\n",
    "from deepchem.molnet import load_bbbp, load_clearance, load_clintox, load_delaney, load_hiv, load_qm7, load_tox21\n",
    "from rdkit import Chem\n",
    "import sklearn"
   ]
  },
  {
   "cell_type": "code",
   "execution_count": 4,
   "metadata": {},
   "outputs": [],
   "source": [
    "#1. 数据输入和特征化\n",
    "###设置\n",
    "training_data_path = os.path.abspath(os.path.join(os.getcwd(), \"..\"))+'/training_data/'\n",
    "dataset = 'TCM_100t'\n",
    "tar_id = 'CHEMBL205.csv'\n",
    "\n",
    "\n",
    "smiles = pd.read_csv(training_data_path + '/' +dataset+'/'+tar_id, header=0,index_col=False)['c_smiles'].tolist()\n",
    "labels = pd.read_csv(training_data_path + '/' +dataset+'/'+tar_id, header=0,index_col=False)['active_label'].tolist()\n",
    "df = pd.DataFrame(list(zip(smiles, labels)), columns=[\"smiles\", \"labels\"])"
   ]
  },
  {
   "cell_type": "code",
   "execution_count": 6,
   "metadata": {},
   "outputs": [
    {
     "name": "stderr",
     "output_type": "stream",
     "text": [
      "fatal: destination path 'bert-loves-chemistry' already exists and is not an empty directory.\n"
     ]
    }
   ],
   "source": [
    "# 在当前文件夹下下载chemberta预训练模型\n",
    "!git clone https://github.com/seyonechithrananda/bert-loves-chemistry.git"
   ]
  },
  {
   "cell_type": "code",
   "execution_count": 7,
   "metadata": {},
   "outputs": [
    {
     "name": "stdout",
     "output_type": "stream",
     "text": [
      "X:\\jupyter workspace\\NP\\DL\\bert-loves-chemistry\n"
     ]
    },
    {
     "name": "stderr",
     "output_type": "stream",
     "text": [
      "��Ŀ¼���ļ� BPE_PubChem_10M_TCM_run �Ѿ����ڡ�\n"
     ]
    }
   ],
   "source": [
    "# 建子文件夹用于储存模型（仅构建目录，不一定要存模型）\n",
    "%cd \"X:\\jupyter workspace\\NP\\DL\\bert-loves-chemistry\"\n",
    "!mkdir BPE_PubChem_10M_TCM_run"
   ]
  },
  {
   "cell_type": "code",
   "execution_count": 8,
   "metadata": {},
   "outputs": [
    {
     "name": "stderr",
     "output_type": "stream",
     "text": [
      "Some weights of RobertaForSequenceClassification were not initialized from the model checkpoint at seyonec/PubChem10M_SMILES_BPE_396_250 and are newly initialized: ['classifier.out_proj.weight', 'classifier.dense.weight', 'classifier.out_proj.bias', 'classifier.dense.bias']\n",
      "You should probably TRAIN this model on a down-stream task to be able to use it for predictions and inference.\n"
     ]
    }
   ],
   "source": [
    "# 设立fine_tune模型\n",
    "# 模型将自动在GPU上运行\n",
    "from simpletransformers.classification import ClassificationModel, ClassificationArgs\n",
    "\n",
    "model = ClassificationModel('roberta', \n",
    "                            'seyonec/PubChem10M_SMILES_BPE_396_250', \n",
    "                            args={'evaluate_each_epoch': True, \n",
    "                                  'evaluate_during_training_verbose': True, \n",
    "                                  'no_save': True, #是否不保存，若设置为false则保存，一个epoch有接近一个G\n",
    "                                  'num_train_epochs': 10, \n",
    "                                  'auto_weights': True}) # You can set class weights by using the optional weight argument\n"
   ]
  },
  {
   "cell_type": "code",
   "execution_count": 9,
   "metadata": {},
   "outputs": [
    {
     "name": "stderr",
     "output_type": "stream",
     "text": [
      "x:\\Anaconda3\\envs\\pytorch3\\lib\\site-packages\\simpletransformers\\classification\\classification_model.py:611: UserWarning: Dataframe headers not specified. Falling back to using column 0 as text and column 1 as labels.\n",
      "  warnings.warn(\n",
      "  1%|          | 1/90 [00:04<06:07,  4.12s/it]\n",
      "Epochs 0/10. Running Loss:    0.2269: 100%|██████████| 12/12 [00:01<00:00, 11.67it/s]\n",
      "Epochs 1/10. Running Loss:    0.1427: 100%|██████████| 12/12 [00:00<00:00, 14.31it/s]\n",
      "Epochs 2/10. Running Loss:    0.0280: 100%|██████████| 12/12 [00:00<00:00, 14.32it/s]\n",
      "Epochs 3/10. Running Loss:    0.0135: 100%|██████████| 12/12 [00:00<00:00, 14.32it/s]\n",
      "Epochs 4/10. Running Loss:    0.5263: 100%|██████████| 12/12 [00:00<00:00, 14.36it/s]\n",
      "Epochs 5/10. Running Loss:    0.0026: 100%|██████████| 12/12 [00:00<00:00, 14.64it/s]\n",
      "Epochs 6/10. Running Loss:    0.0028: 100%|██████████| 12/12 [00:00<00:00, 14.15it/s]\n",
      "Epochs 7/10. Running Loss:    0.0013: 100%|██████████| 12/12 [00:00<00:00, 13.59it/s]\n",
      "Epochs 8/10. Running Loss:    0.0011: 100%|██████████| 12/12 [00:00<00:00, 14.19it/s]\n",
      "Epochs 9/10. Running Loss:    0.0028: 100%|██████████| 12/12 [00:00<00:00, 14.31it/s]\n",
      "Epoch 10 of 10: 100%|██████████| 10/10 [00:08<00:00,  1.16it/s]\n",
      "x:\\Anaconda3\\envs\\pytorch3\\lib\\site-packages\\simpletransformers\\classification\\classification_model.py:1453: UserWarning: Dataframe headers not specified. Falling back to using column 0 as text and column 1 as labels.\n",
      "  warnings.warn(\n",
      "  2%|▏         | 1/45 [00:04<02:58,  4.05s/it]\n",
      "Running Evaluation: 100%|██████████| 6/6 [00:00<00:00, 29.20it/s]\n",
      "x:\\Anaconda3\\envs\\pytorch3\\lib\\site-packages\\simpletransformers\\classification\\classification_model.py:611: UserWarning: Dataframe headers not specified. Falling back to using column 0 as text and column 1 as labels.\n",
      "  warnings.warn(\n"
     ]
    },
    {
     "name": "stdout",
     "output_type": "stream",
     "text": [
      "0.8907563025210083\n"
     ]
    },
    {
     "name": "stderr",
     "output_type": "stream",
     "text": [
      "  1%|          | 1/90 [00:04<06:03,  4.08s/it]\n",
      "Epochs 0/10. Running Loss:    0.0070: 100%|██████████| 12/12 [00:00<00:00, 12.32it/s]\n",
      "Epochs 1/10. Running Loss:    0.0818: 100%|██████████| 12/12 [00:00<00:00, 15.53it/s]\n",
      "Epochs 2/10. Running Loss:    0.0054: 100%|██████████| 12/12 [00:00<00:00, 15.47it/s]\n",
      "Epochs 3/10. Running Loss:    0.0008: 100%|██████████| 12/12 [00:00<00:00, 15.41it/s]\n",
      "Epochs 4/10. Running Loss:    0.0002: 100%|██████████| 12/12 [00:00<00:00, 15.39it/s]\n",
      "Epochs 5/10. Running Loss:    0.0002: 100%|██████████| 12/12 [00:00<00:00, 15.41it/s]\n",
      "Epochs 6/10. Running Loss:    0.0032: 100%|██████████| 12/12 [00:00<00:00, 15.49it/s]\n",
      "Epochs 7/10. Running Loss:    0.0001: 100%|██████████| 12/12 [00:00<00:00, 15.49it/s]\n",
      "Epochs 8/10. Running Loss:    0.0002: 100%|██████████| 12/12 [00:00<00:00, 15.51it/s]\n",
      "Epochs 9/10. Running Loss:    0.0004: 100%|██████████| 12/12 [00:00<00:00, 15.53it/s]\n",
      "Epoch 10 of 10: 100%|██████████| 10/10 [00:07<00:00,  1.25it/s]\n",
      "x:\\Anaconda3\\envs\\pytorch3\\lib\\site-packages\\simpletransformers\\classification\\classification_model.py:1453: UserWarning: Dataframe headers not specified. Falling back to using column 0 as text and column 1 as labels.\n",
      "  warnings.warn(\n",
      "  2%|▏         | 1/45 [00:03<02:54,  3.97s/it]\n",
      "Running Evaluation: 100%|██████████| 6/6 [00:00<00:00, 22.70it/s]\n",
      "x:\\Anaconda3\\envs\\pytorch3\\lib\\site-packages\\simpletransformers\\classification\\classification_model.py:611: UserWarning: Dataframe headers not specified. Falling back to using column 0 as text and column 1 as labels.\n",
      "  warnings.warn(\n"
     ]
    },
    {
     "name": "stdout",
     "output_type": "stream",
     "text": [
      "1.0\n"
     ]
    },
    {
     "name": "stderr",
     "output_type": "stream",
     "text": [
      "  1%|          | 1/90 [00:03<05:52,  3.96s/it]\n",
      "Epochs 0/10. Running Loss:    0.0002: 100%|██████████| 12/12 [00:01<00:00, 11.23it/s]\n",
      "Epochs 1/10. Running Loss:    0.0002: 100%|██████████| 12/12 [00:00<00:00, 15.49it/s]\n",
      "Epochs 2/10. Running Loss:    0.0003: 100%|██████████| 12/12 [00:00<00:00, 15.51it/s]\n",
      "Epochs 3/10. Running Loss:    0.0027: 100%|██████████| 12/12 [00:00<00:00, 15.54it/s]\n",
      "Epochs 4/10. Running Loss:    0.0004: 100%|██████████| 12/12 [00:00<00:00, 15.51it/s]\n",
      "Epochs 5/10. Running Loss:    0.0002: 100%|██████████| 12/12 [00:00<00:00, 15.45it/s]\n",
      "Epochs 6/10. Running Loss:    0.0001: 100%|██████████| 12/12 [00:00<00:00, 15.49it/s]\n",
      "Epochs 7/10. Running Loss:    0.0001: 100%|██████████| 12/12 [00:00<00:00, 15.50it/s]\n",
      "Epochs 8/10. Running Loss:    0.0001: 100%|██████████| 12/12 [00:00<00:00, 15.53it/s]\n",
      "Epochs 9/10. Running Loss:    0.0002: 100%|██████████| 12/12 [00:00<00:00, 15.45it/s]\n",
      "Epoch 10 of 10: 100%|██████████| 10/10 [00:08<00:00,  1.24it/s]\n",
      "x:\\Anaconda3\\envs\\pytorch3\\lib\\site-packages\\simpletransformers\\classification\\classification_model.py:1453: UserWarning: Dataframe headers not specified. Falling back to using column 0 as text and column 1 as labels.\n",
      "  warnings.warn(\n",
      "  2%|▏         | 1/45 [00:03<02:55,  4.00s/it]\n",
      "Running Evaluation: 100%|██████████| 6/6 [00:00<00:00, 28.89it/s]"
     ]
    },
    {
     "name": "stdout",
     "output_type": "stream",
     "text": [
      "1.0\n"
     ]
    },
    {
     "name": "stderr",
     "output_type": "stream",
     "text": [
      "\n"
     ]
    }
   ],
   "source": [
    "#数据拆分\n",
    "#后面训练时需要使用dataframe作为输入，一般应该是用train_test_split方法\n",
    "#由于要确保每个分层都有正负值，因此仅能使用stratifiedKFold, 而此方法必须获得X和y才能进行拆分，因此拆分后再将其拼接成为dataframe\n",
    "from sklearn.model_selection import StratifiedKFold\n",
    "outer_skf = StratifiedKFold(n_splits=3, shuffle=True, random_state=42)\n",
    "X, y = df.smiles, df.labels\n",
    "\n",
    "#交叉验证\n",
    "rocauc_score = []\n",
    "for train_index, val_index in outer_skf.split(X, y):\n",
    "    X_train, X_test = X[train_index], X[val_index]\n",
    "    y_train, y_test = y[train_index], y[val_index]\n",
    "    train_df = pd.concat([X_train, y_train], axis=1, keys=['smiles', 'labels'])\n",
    "    val_df = pd.concat([X_test, y_test], axis=1, keys=['smiles', 'labels'])\n",
    "\n",
    "\n",
    "    # Train the model\n",
    "    model.train_model(train_df, eval_df=val_df, \n",
    "                    output_dir=os.getcwd() + '/BPE_PubChem_10M_TCM_run',\n",
    "                    args={'overwrite_output_dir': True})\n",
    "    \n",
    "    # 获得auroc分数\n",
    "    result, model_outputs, wrong_predictions = model.eval_model(val_df, \n",
    "                                                                acc=sklearn.metrics.average_precision_score)\n",
    "    \n",
    "\n",
    "    rocauc_score.append(result['auroc'])\n",
    "    print(result['auroc'])\n",
    "\n",
    "average_rocauc_score = np.mean(rocauc_score)"
   ]
  },
  {
   "cell_type": "code",
   "execution_count": 28,
   "metadata": {},
   "outputs": [],
   "source": [
    "#数据输出\n",
    "data={'targets':tar_id, 'best_params':\"\", 'rocauc_score':average_rocauc_score}\n",
    "roc_data = pd.DataFrame(data, index=[0]) \n",
    "roc_data.to_csv(os.path.abspath(os.path.join(os.getcwd(), \"..\"))+'\\\\'+tar_id, index=False)"
   ]
  },
  {
   "cell_type": "code",
   "execution_count": null,
   "metadata": {},
   "outputs": [],
   "source": []
  }
 ],
 "metadata": {
  "kernelspec": {
   "display_name": "pytorch3",
   "language": "python",
   "name": "python3"
  },
  "language_info": {
   "codemirror_mode": {
    "name": "ipython",
    "version": 3
   },
   "file_extension": ".py",
   "mimetype": "text/x-python",
   "name": "python",
   "nbconvert_exporter": "python",
   "pygments_lexer": "ipython3",
   "version": "3.9.18"
  }
 },
 "nbformat": 4,
 "nbformat_minor": 2
}
