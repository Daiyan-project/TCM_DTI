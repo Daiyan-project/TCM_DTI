{
 "cells": [
  {
   "cell_type": "code",
   "execution_count": 1,
   "id": "df566400-08b1-4aab-ac1e-118872fc071e",
   "metadata": {
    "tags": []
   },
   "outputs": [],
   "source": [
    "import os\n",
    "import tqdm\n",
    "import pandas as pd\n",
    "import numpy as np\n",
    "np.random.seed(1)\n",
    "import warnings\n",
    "warnings.filterwarnings('ignore')\n",
    "from rdkit.Chem import MACCSkeys\n",
    "from rdkit.Chem import MolFromSmiles\n",
    "from rdkit.Chem.AllChem import GetMorganFingerprintAsBitVect\n",
    "from sklearn.metrics import average_precision_score,roc_auc_score\n",
    "from sklearn.model_selection import GridSearchCV, StratifiedKFold\n",
    "\n",
    "#更换算法时修改\n",
    "from sklearn.ensemble import RandomForestClassifier\n",
    "algorithm = 'RF'"
   ]
  },
  {
   "cell_type": "code",
   "execution_count": 2,
   "metadata": {},
   "outputs": [],
   "source": [
    "# PRAUC and ROCAUC\n",
    "def nested_cv(X,y):\n",
    "\n",
    "    # 更换算法时修改\n",
    "    model = RandomForestClassifier()\n",
    "    param_grid = {\n",
    "        'n_estimators':[10,50,100,300,700,1000],\n",
    "        'criterion':['gini','entropy'],\n",
    "        'max_features':['sqrt','log2'],\n",
    "        'max_depth':[1,3,5,7,9]\n",
    "    }\n",
    "    \n",
    "    # Set up outer cross-validation loop\n",
    "    outer_cv = StratifiedKFold(n_splits=3, shuffle=True, random_state=1)\n",
    "\n",
    "    prauc_scores = []\n",
    "    rocauc_scores = []\n",
    "    prauc_best_params = []\n",
    "    rocauc_best_params = []\n",
    "\n",
    "    # Execute outer splits\n",
    "    for train_index, test_index in outer_cv.split(X, y):\n",
    "        X_train, X_test = X[train_index, :], X[test_index, :]\n",
    "        y_train, y_test = y[train_index], y[test_index]\n",
    "\n",
    "        # Set up inner cross-validation loop\n",
    "        inner_cv = StratifiedKFold(n_splits=2, shuffle=True, random_state=1)\n",
    "\n",
    "        # Create GridSearchCV object\n",
    "        clf1 = GridSearchCV(estimator=model, param_grid=param_grid, cv=inner_cv, scoring='average_precision', error_score='raise',n_jobs=10)\n",
    "        clf2 = GridSearchCV(estimator=model, param_grid=param_grid, cv=inner_cv, scoring='roc_auc', error_score='raise',n_jobs=10)\n",
    "\n",
    "        # Fit GridSearchCV on the training set\n",
    "        clf1.fit(X_train, y_train)\n",
    "        clf2.fit(X_train, y_train)\n",
    "\n",
    "        # Predict probabilities on the test set\n",
    "        y_pred_proba1 = clf1.predict_proba(X_test)\n",
    "        y_pred_proba2 = clf2.predict_proba(X_test)\n",
    "\n",
    "        # Calculate PR AUC score for the fold\n",
    "        prauc_score = average_precision_score(y_test, y_pred_proba1[:, 1])\n",
    "        rocauc_score = roc_auc_score(y_test, y_pred_proba2[:, 1])\n",
    "\n",
    "        prauc_scores.append(prauc_score)\n",
    "        prauc_best_params.append(clf1.best_params_)\n",
    "        rocauc_scores.append(rocauc_score)\n",
    "        rocauc_best_params.append(clf2.best_params_)\n",
    "        \n",
    "\n",
    "    # Calculate average PR AUC score across all folds\n",
    "    average_prauc_score = np.mean(prauc_scores)\n",
    "    average_rocauc_score = np.mean(rocauc_scores)\n",
    "\n",
    "    # Determine the best parameters based on the highest average PR AUC score\n",
    "    best_prauc_params_overall = prauc_best_params[np.argmax(prauc_scores)]\n",
    "    best_rocauc_params_overall = rocauc_best_params[np.argmax(rocauc_scores)]\n",
    "    \n",
    "    return best_prauc_params_overall, average_prauc_score, best_rocauc_params_overall, average_rocauc_score"
   ]
  },
  {
   "cell_type": "code",
   "execution_count": 3,
   "id": "625afd76-3b18-46d5-883d-67030faa1981",
   "metadata": {
    "tags": []
   },
   "outputs": [],
   "source": [
    "# Read file information in a folder\n",
    "def get_file_list(file_folder):\n",
    "    for root, dirs, file_list in os.walk(file_folder):\n",
    "        return file_list\n",
    "\n",
    "\n",
    "# SMILES to fingerprint feature conversion / Different combinations of fingerprint features\n",
    "def batchECFP(smiles, radius=3, nBits=2048):\n",
    "    smiles = np.array(smiles)\n",
    "    n = len(smiles)\n",
    "    fingerprints_0 = np.zeros((n, nBits), dtype=int)\n",
    "    fingerprints_1 = np.zeros((n, nBits), dtype=int)\n",
    "    MACCSArray = []\n",
    "    for i in range(n):\n",
    "        mol = MolFromSmiles(smiles[i])\n",
    "        # ecfp6\n",
    "        fp = GetMorganFingerprintAsBitVect(mol, radius, nBits=nBits)\n",
    "        # fcfp6\n",
    "        fp_1 = GetMorganFingerprintAsBitVect(\n",
    "            mol, radius, nBits=nBits, useFeatures=True)\n",
    "        # MACCS\n",
    "        MACCSArray.append(MACCSkeys.GenMACCSKeys(mol))\n",
    "        fingerprints_0[i] = np.array(list(fp.ToBitString()))\n",
    "        fingerprints_1[i] = np.array(list(fp_1.ToBitString()))\n",
    "    fingerprints_2 = np.array(MACCSArray)\n",
    "    fingerprints = np.hstack((fingerprints_0, fingerprints_1, fingerprints_2))\n",
    "    fingerprints_3 = np.hstack((fingerprints_0, fingerprints_1))\n",
    "    fingerprints_4 = np.hstack((fingerprints_0, fingerprints_2))\n",
    "    fingerprints_5 = np.hstack((fingerprints_1, fingerprints_2))\n",
    "    if FingerPrint == \"ecfp6fcfp6MACCS\":\n",
    "        fingerprints_out = fingerprints\n",
    "    elif FingerPrint == \"ecfp6\":\n",
    "        fingerprints_out = fingerprints_0\n",
    "    elif FingerPrint == \"fcfp6\":\n",
    "        fingerprints_out = fingerprints_1\n",
    "    elif FingerPrint == \"MACCS\":\n",
    "        fingerprints_out = fingerprints_2\n",
    "    elif FingerPrint == \"ecfp6fcfp6\":\n",
    "        fingerprints_out = fingerprints_3\n",
    "    elif FingerPrint== \"ecfp6MACCS\":\n",
    "        fingerprints_out = fingerprints_4\n",
    "    elif FingerPrint == \"fcfp6MACCS\":\n",
    "        fingerprints_out = fingerprints_5\n",
    "\n",
    "    return fingerprints_out"
   ]
  },
  {
   "cell_type": "code",
   "execution_count": 4,
   "id": "3330f73d-cea7-472f-bae8-2568efad0c1e",
   "metadata": {
    "tags": []
   },
   "outputs": [
    {
     "name": "stdout",
     "output_type": "stream",
     "text": [
      "TCM2000_100t ecfp6\n"
     ]
    },
    {
     "name": "stderr",
     "output_type": "stream",
     "text": [
      "100%|██████████| 30/30 [27:51<00:00, 55.70s/it]\n"
     ]
    },
    {
     "name": "stdout",
     "output_type": "stream",
     "text": [
      "TCM2000_100t ecfp6fcfp6\n"
     ]
    },
    {
     "name": "stderr",
     "output_type": "stream",
     "text": [
      "100%|██████████| 30/30 [28:53<00:00, 57.77s/it]\n"
     ]
    },
    {
     "name": "stdout",
     "output_type": "stream",
     "text": [
      "TCM2000_100t ecfp6fcfp6MACCS\n"
     ]
    },
    {
     "name": "stderr",
     "output_type": "stream",
     "text": [
      "100%|██████████| 30/30 [33:26<00:00, 66.87s/it]\n"
     ]
    },
    {
     "name": "stdout",
     "output_type": "stream",
     "text": [
      "TCM2000_100t ecfp6MACCS\n"
     ]
    },
    {
     "name": "stderr",
     "output_type": "stream",
     "text": [
      "100%|██████████| 30/30 [32:27<00:00, 64.91s/it]\n"
     ]
    },
    {
     "name": "stdout",
     "output_type": "stream",
     "text": [
      "TCM2000_100t fcfp6\n"
     ]
    },
    {
     "name": "stderr",
     "output_type": "stream",
     "text": [
      "100%|██████████| 30/30 [27:26<00:00, 54.90s/it]\n"
     ]
    },
    {
     "name": "stdout",
     "output_type": "stream",
     "text": [
      "TCM2000_100t fcfp6MACCS\n"
     ]
    },
    {
     "name": "stderr",
     "output_type": "stream",
     "text": [
      "100%|██████████| 30/30 [27:38<00:00, 55.28s/it]\n"
     ]
    },
    {
     "name": "stdout",
     "output_type": "stream",
     "text": [
      "TCM2000_100t MACCS\n"
     ]
    },
    {
     "name": "stderr",
     "output_type": "stream",
     "text": [
      "100%|██████████| 30/30 [26:34<00:00, 53.15s/it]\n"
     ]
    },
    {
     "name": "stdout",
     "output_type": "stream",
     "text": [
      "TCM2000_30t ecfp6\n"
     ]
    },
    {
     "name": "stderr",
     "output_type": "stream",
     "text": [
      "100%|██████████| 128/128 [1:52:55<00:00, 52.93s/it]\n"
     ]
    },
    {
     "name": "stdout",
     "output_type": "stream",
     "text": [
      "TCM2000_30t ecfp6fcfp6\n"
     ]
    },
    {
     "name": "stderr",
     "output_type": "stream",
     "text": [
      "100%|██████████| 128/128 [1:54:45<00:00, 53.79s/it]\n"
     ]
    },
    {
     "name": "stdout",
     "output_type": "stream",
     "text": [
      "TCM2000_30t ecfp6fcfp6MACCS\n"
     ]
    },
    {
     "name": "stderr",
     "output_type": "stream",
     "text": [
      "100%|██████████| 128/128 [1:54:20<00:00, 53.60s/it]\n"
     ]
    },
    {
     "name": "stdout",
     "output_type": "stream",
     "text": [
      "TCM2000_30t ecfp6MACCS\n"
     ]
    },
    {
     "name": "stderr",
     "output_type": "stream",
     "text": [
      "100%|██████████| 128/128 [1:52:27<00:00, 52.71s/it]\n"
     ]
    },
    {
     "name": "stdout",
     "output_type": "stream",
     "text": [
      "TCM2000_30t fcfp6\n"
     ]
    },
    {
     "name": "stderr",
     "output_type": "stream",
     "text": [
      "100%|██████████| 128/128 [1:52:13<00:00, 52.60s/it]\n"
     ]
    },
    {
     "name": "stdout",
     "output_type": "stream",
     "text": [
      "TCM2000_30t fcfp6MACCS\n"
     ]
    },
    {
     "name": "stderr",
     "output_type": "stream",
     "text": [
      "100%|██████████| 128/128 [1:52:25<00:00, 52.70s/it]\n"
     ]
    },
    {
     "name": "stdout",
     "output_type": "stream",
     "text": [
      "TCM2000_30t MACCS\n"
     ]
    },
    {
     "name": "stderr",
     "output_type": "stream",
     "text": [
      "100%|██████████| 128/128 [1:49:43<00:00, 51.43s/it]\n"
     ]
    },
    {
     "name": "stdout",
     "output_type": "stream",
     "text": [
      "TCM2000_50t ecfp6\n"
     ]
    },
    {
     "name": "stderr",
     "output_type": "stream",
     "text": [
      "100%|██████████| 75/75 [1:06:38<00:00, 53.32s/it]\n"
     ]
    },
    {
     "name": "stdout",
     "output_type": "stream",
     "text": [
      "TCM2000_50t ecfp6fcfp6\n"
     ]
    },
    {
     "name": "stderr",
     "output_type": "stream",
     "text": [
      "100%|██████████| 75/75 [1:08:50<00:00, 55.07s/it]\n"
     ]
    },
    {
     "name": "stdout",
     "output_type": "stream",
     "text": [
      "TCM2000_50t ecfp6fcfp6MACCS\n"
     ]
    },
    {
     "name": "stderr",
     "output_type": "stream",
     "text": [
      "100%|██████████| 75/75 [1:09:02<00:00, 55.23s/it]\n"
     ]
    },
    {
     "name": "stdout",
     "output_type": "stream",
     "text": [
      "TCM2000_50t ecfp6MACCS\n"
     ]
    },
    {
     "name": "stderr",
     "output_type": "stream",
     "text": [
      "100%|██████████| 75/75 [1:08:00<00:00, 54.41s/it]\n"
     ]
    },
    {
     "name": "stdout",
     "output_type": "stream",
     "text": [
      "TCM2000_50t fcfp6\n"
     ]
    },
    {
     "name": "stderr",
     "output_type": "stream",
     "text": [
      "100%|██████████| 75/75 [1:07:28<00:00, 53.98s/it]\n"
     ]
    },
    {
     "name": "stdout",
     "output_type": "stream",
     "text": [
      "TCM2000_50t fcfp6MACCS\n"
     ]
    },
    {
     "name": "stderr",
     "output_type": "stream",
     "text": [
      "100%|██████████| 75/75 [1:07:41<00:00, 54.16s/it]\n"
     ]
    },
    {
     "name": "stdout",
     "output_type": "stream",
     "text": [
      "TCM2000_50t MACCS\n"
     ]
    },
    {
     "name": "stderr",
     "output_type": "stream",
     "text": [
      "100%|██████████| 75/75 [1:05:40<00:00, 52.55s/it]\n"
     ]
    },
    {
     "name": "stdout",
     "output_type": "stream",
     "text": [
      "TCM2000_80t ecfp6\n"
     ]
    },
    {
     "name": "stderr",
     "output_type": "stream",
     "text": [
      "100%|██████████| 39/39 [35:36<00:00, 54.79s/it]\n"
     ]
    },
    {
     "name": "stdout",
     "output_type": "stream",
     "text": [
      "TCM2000_80t ecfp6fcfp6\n"
     ]
    },
    {
     "name": "stderr",
     "output_type": "stream",
     "text": [
      "100%|██████████| 39/39 [36:41<00:00, 56.46s/it]\n"
     ]
    },
    {
     "name": "stdout",
     "output_type": "stream",
     "text": [
      "TCM2000_80t ecfp6fcfp6MACCS\n"
     ]
    },
    {
     "name": "stderr",
     "output_type": "stream",
     "text": [
      "100%|██████████| 39/39 [37:04<00:00, 57.04s/it]\n"
     ]
    },
    {
     "name": "stdout",
     "output_type": "stream",
     "text": [
      "TCM2000_80t ecfp6MACCS\n"
     ]
    },
    {
     "name": "stderr",
     "output_type": "stream",
     "text": [
      "100%|██████████| 39/39 [36:02<00:00, 55.46s/it]\n"
     ]
    },
    {
     "name": "stdout",
     "output_type": "stream",
     "text": [
      "TCM2000_80t fcfp6\n"
     ]
    },
    {
     "name": "stderr",
     "output_type": "stream",
     "text": [
      "100%|██████████| 39/39 [35:43<00:00, 54.96s/it]\n"
     ]
    },
    {
     "name": "stdout",
     "output_type": "stream",
     "text": [
      "TCM2000_80t fcfp6MACCS\n"
     ]
    },
    {
     "name": "stderr",
     "output_type": "stream",
     "text": [
      "100%|██████████| 39/39 [35:53<00:00, 55.21s/it]\n"
     ]
    },
    {
     "name": "stdout",
     "output_type": "stream",
     "text": [
      "TCM2000_80t MACCS\n"
     ]
    },
    {
     "name": "stderr",
     "output_type": "stream",
     "text": [
      "100%|██████████| 39/39 [34:45<00:00, 53.48s/it]\n"
     ]
    },
    {
     "name": "stdout",
     "output_type": "stream",
     "text": [
      "TCM_100t ecfp6\n"
     ]
    },
    {
     "name": "stderr",
     "output_type": "stream",
     "text": [
      "100%|██████████| 23/23 [20:58<00:00, 54.72s/it]\n"
     ]
    },
    {
     "name": "stdout",
     "output_type": "stream",
     "text": [
      "TCM_100t ecfp6fcfp6\n"
     ]
    },
    {
     "name": "stderr",
     "output_type": "stream",
     "text": [
      "100%|██████████| 23/23 [21:46<00:00, 56.82s/it]\n"
     ]
    },
    {
     "name": "stdout",
     "output_type": "stream",
     "text": [
      "TCM_100t ecfp6fcfp6MACCS\n"
     ]
    },
    {
     "name": "stderr",
     "output_type": "stream",
     "text": [
      "100%|██████████| 23/23 [21:43<00:00, 56.67s/it]\n"
     ]
    },
    {
     "name": "stdout",
     "output_type": "stream",
     "text": [
      "TCM_100t ecfp6MACCS\n"
     ]
    },
    {
     "name": "stderr",
     "output_type": "stream",
     "text": [
      "100%|██████████| 23/23 [21:16<00:00, 55.48s/it]\n"
     ]
    },
    {
     "name": "stdout",
     "output_type": "stream",
     "text": [
      "TCM_100t fcfp6\n"
     ]
    },
    {
     "name": "stderr",
     "output_type": "stream",
     "text": [
      "100%|██████████| 23/23 [20:52<00:00, 54.44s/it]\n"
     ]
    },
    {
     "name": "stdout",
     "output_type": "stream",
     "text": [
      "TCM_100t fcfp6MACCS\n"
     ]
    },
    {
     "name": "stderr",
     "output_type": "stream",
     "text": [
      "100%|██████████| 23/23 [21:09<00:00, 55.19s/it]\n"
     ]
    },
    {
     "name": "stdout",
     "output_type": "stream",
     "text": [
      "TCM_100t MACCS\n"
     ]
    },
    {
     "name": "stderr",
     "output_type": "stream",
     "text": [
      "100%|██████████| 23/23 [20:32<00:00, 53.57s/it]\n"
     ]
    },
    {
     "name": "stdout",
     "output_type": "stream",
     "text": [
      "TCM_30t ecfp6\n"
     ]
    },
    {
     "name": "stderr",
     "output_type": "stream",
     "text": [
      "100%|██████████| 114/114 [1:40:33<00:00, 52.93s/it]\n"
     ]
    },
    {
     "name": "stdout",
     "output_type": "stream",
     "text": [
      "TCM_30t ecfp6fcfp6\n"
     ]
    },
    {
     "name": "stderr",
     "output_type": "stream",
     "text": [
      "100%|██████████| 114/114 [1:41:43<00:00, 53.54s/it]\n"
     ]
    },
    {
     "name": "stdout",
     "output_type": "stream",
     "text": [
      "TCM_30t ecfp6fcfp6MACCS\n"
     ]
    },
    {
     "name": "stderr",
     "output_type": "stream",
     "text": [
      "100%|██████████| 114/114 [1:41:48<00:00, 53.58s/it]\n"
     ]
    },
    {
     "name": "stdout",
     "output_type": "stream",
     "text": [
      "TCM_30t ecfp6MACCS\n"
     ]
    },
    {
     "name": "stderr",
     "output_type": "stream",
     "text": [
      "100%|██████████| 114/114 [1:40:12<00:00, 52.74s/it]\n"
     ]
    },
    {
     "name": "stdout",
     "output_type": "stream",
     "text": [
      "TCM_30t fcfp6\n"
     ]
    },
    {
     "name": "stderr",
     "output_type": "stream",
     "text": [
      "100%|██████████| 114/114 [1:39:34<00:00, 52.41s/it]\n"
     ]
    },
    {
     "name": "stdout",
     "output_type": "stream",
     "text": [
      "TCM_30t fcfp6MACCS\n"
     ]
    },
    {
     "name": "stderr",
     "output_type": "stream",
     "text": [
      "100%|██████████| 114/114 [1:40:21<00:00, 52.82s/it]\n"
     ]
    },
    {
     "name": "stdout",
     "output_type": "stream",
     "text": [
      "TCM_30t MACCS\n"
     ]
    },
    {
     "name": "stderr",
     "output_type": "stream",
     "text": [
      "100%|██████████| 114/114 [1:38:35<00:00, 51.89s/it]\n"
     ]
    },
    {
     "name": "stdout",
     "output_type": "stream",
     "text": [
      "TCM_50t ecfp6\n"
     ]
    },
    {
     "name": "stderr",
     "output_type": "stream",
     "text": [
      "100%|██████████| 56/56 [50:17<00:00, 53.88s/it]\n"
     ]
    },
    {
     "name": "stdout",
     "output_type": "stream",
     "text": [
      "TCM_50t ecfp6fcfp6\n"
     ]
    },
    {
     "name": "stderr",
     "output_type": "stream",
     "text": [
      "100%|██████████| 56/56 [51:29<00:00, 55.18s/it]\n"
     ]
    },
    {
     "name": "stdout",
     "output_type": "stream",
     "text": [
      "TCM_50t ecfp6fcfp6MACCS\n"
     ]
    },
    {
     "name": "stderr",
     "output_type": "stream",
     "text": [
      "100%|██████████| 56/56 [51:26<00:00, 55.12s/it]\n"
     ]
    },
    {
     "name": "stdout",
     "output_type": "stream",
     "text": [
      "TCM_50t ecfp6MACCS\n"
     ]
    },
    {
     "name": "stderr",
     "output_type": "stream",
     "text": [
      "100%|██████████| 56/56 [50:39<00:00, 54.28s/it]\n"
     ]
    },
    {
     "name": "stdout",
     "output_type": "stream",
     "text": [
      "TCM_50t fcfp6\n"
     ]
    },
    {
     "name": "stderr",
     "output_type": "stream",
     "text": [
      "100%|██████████| 56/56 [50:26<00:00, 54.05s/it]\n"
     ]
    },
    {
     "name": "stdout",
     "output_type": "stream",
     "text": [
      "TCM_50t fcfp6MACCS\n"
     ]
    },
    {
     "name": "stderr",
     "output_type": "stream",
     "text": [
      "100%|██████████| 56/56 [50:19<00:00, 53.92s/it]\n"
     ]
    },
    {
     "name": "stdout",
     "output_type": "stream",
     "text": [
      "TCM_50t MACCS\n"
     ]
    },
    {
     "name": "stderr",
     "output_type": "stream",
     "text": [
      "100%|██████████| 56/56 [49:13<00:00, 52.74s/it]\n"
     ]
    },
    {
     "name": "stdout",
     "output_type": "stream",
     "text": [
      "TCM_80t ecfp6\n"
     ]
    },
    {
     "name": "stderr",
     "output_type": "stream",
     "text": [
      "100%|██████████| 31/31 [28:23<00:00, 54.96s/it]\n"
     ]
    },
    {
     "name": "stdout",
     "output_type": "stream",
     "text": [
      "TCM_80t ecfp6fcfp6\n"
     ]
    },
    {
     "name": "stderr",
     "output_type": "stream",
     "text": [
      "100%|██████████| 31/31 [29:02<00:00, 56.20s/it]\n"
     ]
    },
    {
     "name": "stdout",
     "output_type": "stream",
     "text": [
      "TCM_80t ecfp6fcfp6MACCS\n"
     ]
    },
    {
     "name": "stderr",
     "output_type": "stream",
     "text": [
      "100%|██████████| 31/31 [29:01<00:00, 56.18s/it]\n"
     ]
    },
    {
     "name": "stdout",
     "output_type": "stream",
     "text": [
      "TCM_80t ecfp6MACCS\n"
     ]
    },
    {
     "name": "stderr",
     "output_type": "stream",
     "text": [
      "100%|██████████| 31/31 [28:24<00:00, 54.99s/it]\n"
     ]
    },
    {
     "name": "stdout",
     "output_type": "stream",
     "text": [
      "TCM_80t fcfp6\n"
     ]
    },
    {
     "name": "stderr",
     "output_type": "stream",
     "text": [
      "100%|██████████| 31/31 [28:07<00:00, 54.45s/it]\n"
     ]
    },
    {
     "name": "stdout",
     "output_type": "stream",
     "text": [
      "TCM_80t fcfp6MACCS\n"
     ]
    },
    {
     "name": "stderr",
     "output_type": "stream",
     "text": [
      "100%|██████████| 31/31 [28:23<00:00, 54.95s/it]\n"
     ]
    },
    {
     "name": "stdout",
     "output_type": "stream",
     "text": [
      "TCM_80t MACCS\n"
     ]
    },
    {
     "name": "stderr",
     "output_type": "stream",
     "text": [
      "100%|██████████| 31/31 [27:29<00:00, 53.21s/it]\n"
     ]
    }
   ],
   "source": [
    "# make results directory \n",
    "FingerPrintSet = ['ecfp6','ecfp6fcfp6','ecfp6fcfp6MACCS','ecfp6MACCS','fcfp6','fcfp6MACCS','MACCS']\n",
    "for FingerPrint in FingerPrintSet:\n",
    "    FingerPrint_path = './results/'+FingerPrint\n",
    "    if os.path.isdir(FingerPrint_path):  \n",
    "        pass\n",
    "    else:\n",
    "        os.makedirs(FingerPrint_path)\n",
    "\n",
    "\n",
    "#文件路径准备\n",
    "basePath = os.getcwd()\n",
    "resultPath = basePath+'/results'\n",
    "training_path = basePath+'/training_data'\n",
    "training_list = os.listdir(training_path)\n",
    "\n",
    "\n",
    "for training_list_set in training_list:\n",
    "\n",
    "    pertarget_files = training_path+'/'+training_list_set\n",
    "\n",
    "    # 测试时修改\n",
    "    files_list = get_file_list(pertarget_files)\n",
    "\n",
    "    #指纹组合\n",
    "    FingerPrintSet = ['ecfp6','ecfp6fcfp6','ecfp6fcfp6MACCS','ecfp6MACCS','fcfp6','fcfp6MACCS','MACCS']\n",
    "\n",
    "\n",
    "    # 遍历所有的指纹组合\n",
    "\n",
    "    for FingerPrint in FingerPrintSet:    \n",
    "        \n",
    "        targets = []\n",
    "        prauc_params = []\n",
    "        prauc_score = []\n",
    "        rocauc_params = []\n",
    "        rocauc_score = []\n",
    "        \n",
    "        #遍历每个文件，编码features，执行nested_cv\n",
    "        print(training_list_set, FingerPrint)\n",
    "        for tar_id in tqdm.tqdm(files_list):\n",
    "            data = pd.read_csv(pertarget_files+'/'+tar_id, header=0,index_col=False)\n",
    "            features = batchECFP(data.iloc[:,2])\n",
    "            y = data.iloc[:,4]\n",
    "            result = nested_cv(features,y)\n",
    "\n",
    "            #记录信息，为输出文件作准备\n",
    "            chembl_id = tar_id.split('.')[0]\n",
    "            targets.append(chembl_id)\n",
    "            prauc_params.append(result[0])\n",
    "            prauc_score.append(result[1])\n",
    "            rocauc_params.append(result[2])\n",
    "            rocauc_score.append(result[3])\n",
    "\n",
    "        #整理文件内容,并输出\n",
    "        data={'targets':targets,'prauc_params':prauc_params, 'prauc_score':prauc_score, \n",
    "            'rocauc_params':rocauc_params, 'rocauc_score':rocauc_score}\n",
    "        roc_data = pd.DataFrame(data) \n",
    "        roc_data.to_csv(resultPath+'/'+FingerPrint+'/'+FingerPrint+'_'+algorithm+'_'+training_list_set+'_rocmean.csv',index=False)\n"
   ]
  }
 ],
 "metadata": {
  "kernelspec": {
   "display_name": "base",
   "language": "python",
   "name": "python3"
  },
  "language_info": {
   "codemirror_mode": {
    "name": "ipython",
    "version": 3
   },
   "file_extension": ".py",
   "mimetype": "text/x-python",
   "name": "python",
   "nbconvert_exporter": "python",
   "pygments_lexer": "ipython3",
   "version": "3.9.18"
  }
 },
 "nbformat": 4,
 "nbformat_minor": 5
}
