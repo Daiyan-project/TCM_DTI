{
 "cells": [
  {
   "cell_type": "code",
   "execution_count": 1,
   "id": "df566400-08b1-4aab-ac1e-118872fc071e",
   "metadata": {
    "tags": []
   },
   "outputs": [],
   "source": [
    "import os\n",
    "import tqdm\n",
    "import pandas as pd\n",
    "import numpy as np\n",
    "np.random.seed(1)\n",
    "import warnings\n",
    "warnings.filterwarnings('ignore')\n",
    "from rdkit.Chem import MACCSkeys\n",
    "from rdkit.Chem import MolFromSmiles\n",
    "from rdkit.Chem.AllChem import GetMorganFingerprintAsBitVect\n",
    "from sklearn.metrics import average_precision_score,roc_auc_score\n",
    "from sklearn.model_selection import GridSearchCV, StratifiedKFold\n",
    "\n",
    "#更换算法时修改\n",
    "from sklearn.svm import SVC\n",
    "algorithm = 'SVC'"
   ]
  },
  {
   "cell_type": "code",
   "execution_count": 2,
   "metadata": {},
   "outputs": [],
   "source": [
    "# PRAUC and ROCAUC\n",
    "def nested_cv(X,y):\n",
    "\n",
    "    # 更换算法时修改\n",
    "    model = SVC(probability=True)\n",
    "    param_grid = [\n",
    "    {'kernel': ['poly'], 'C': [1], 'degree': [2, 3]},\n",
    "    {'kernel': ['rbf'], 'C': [1000, 100, 10, 1], 'gamma': [0.00001, 0.0001, 0.001, 0.01, 0.1]},\n",
    "    {'kernel': ['linear'],'C': [1000, 100, 10, 1, 0.1, 0.01, 0.001, 0.0001]}\n",
    "    ]\n",
    "    \n",
    "    # Set up outer cross-validation loop\n",
    "    outer_cv = StratifiedKFold(n_splits=3, shuffle=True, random_state=1)\n",
    "\n",
    "    prauc_scores = []\n",
    "    rocauc_scores = []\n",
    "    prauc_best_params = []\n",
    "    rocauc_best_params = []\n",
    "\n",
    "    # Execute outer splits\n",
    "    for train_index, test_index in outer_cv.split(X, y):\n",
    "        X_train, X_test = X[train_index, :], X[test_index, :]\n",
    "        y_train, y_test = y[train_index], y[test_index]\n",
    "\n",
    "        # Set up inner cross-validation loop\n",
    "        inner_cv = StratifiedKFold(n_splits=2, shuffle=True, random_state=1)\n",
    "\n",
    "        # Create GridSearchCV object\n",
    "        clf1 = GridSearchCV(estimator=model, param_grid=param_grid, cv=inner_cv, scoring='average_precision', error_score='raise')\n",
    "        clf2 = GridSearchCV(estimator=model, param_grid=param_grid, cv=inner_cv, scoring='roc_auc', error_score='raise')\n",
    "\n",
    "        # Fit GridSearchCV on the training set\n",
    "        clf1.fit(X_train, y_train)\n",
    "        clf2.fit(X_train, y_train)\n",
    "\n",
    "        # Predict probabilities on the test set\n",
    "        y_pred_proba1 = clf1.predict_proba(X_test)\n",
    "        y_pred_proba2 = clf2.predict_proba(X_test)\n",
    "\n",
    "        # Calculate PR AUC score for the fold\n",
    "        prauc_score = average_precision_score(y_test, y_pred_proba1[:, 1])\n",
    "        rocauc_score = roc_auc_score(y_test, y_pred_proba2[:, 1])\n",
    "\n",
    "        prauc_scores.append(prauc_score)\n",
    "        prauc_best_params.append(clf1.best_params_)\n",
    "        rocauc_scores.append(rocauc_score)\n",
    "        rocauc_best_params.append(clf2.best_params_)\n",
    "        \n",
    "\n",
    "    # Calculate average PR AUC score across all folds\n",
    "    average_prauc_score = np.mean(prauc_scores)\n",
    "    average_rocauc_score = np.mean(rocauc_scores)\n",
    "\n",
    "    # Determine the best parameters based on the highest average PR AUC score\n",
    "    best_prauc_params_overall = prauc_best_params[np.argmax(prauc_scores)]\n",
    "    best_rocauc_params_overall = rocauc_best_params[np.argmax(rocauc_scores)]\n",
    "    \n",
    "    return best_prauc_params_overall, average_prauc_score, best_rocauc_params_overall, average_rocauc_score"
   ]
  },
  {
   "cell_type": "code",
   "execution_count": 3,
   "id": "625afd76-3b18-46d5-883d-67030faa1981",
   "metadata": {
    "tags": []
   },
   "outputs": [],
   "source": [
    "# Read file information in a folder\n",
    "def get_file_list(file_folder):\n",
    "    for root, dirs, file_list in os.walk(file_folder):\n",
    "        return file_list\n",
    "\n",
    "\n",
    "# SMILES to fingerprint feature conversion / Different combinations of fingerprint features\n",
    "def batchECFP(smiles, radius=3, nBits=2048):\n",
    "    smiles = np.array(smiles)\n",
    "    n = len(smiles)\n",
    "    fingerprints_0 = np.zeros((n, nBits), dtype=int)\n",
    "    fingerprints_1 = np.zeros((n, nBits), dtype=int)\n",
    "    MACCSArray = []\n",
    "    for i in range(n):\n",
    "        mol = MolFromSmiles(smiles[i])\n",
    "        # ecfp6\n",
    "        fp = GetMorganFingerprintAsBitVect(mol, radius, nBits=nBits)\n",
    "        # fcfp6\n",
    "        fp_1 = GetMorganFingerprintAsBitVect(\n",
    "            mol, radius, nBits=nBits, useFeatures=True)\n",
    "        # MACCS\n",
    "        MACCSArray.append(MACCSkeys.GenMACCSKeys(mol))\n",
    "        fingerprints_0[i] = np.array(list(fp.ToBitString()))\n",
    "        fingerprints_1[i] = np.array(list(fp_1.ToBitString()))\n",
    "    fingerprints_2 = np.array(MACCSArray)\n",
    "    fingerprints = np.hstack((fingerprints_0, fingerprints_1, fingerprints_2))\n",
    "    fingerprints_3 = np.hstack((fingerprints_0, fingerprints_1))\n",
    "    fingerprints_4 = np.hstack((fingerprints_0, fingerprints_2))\n",
    "    fingerprints_5 = np.hstack((fingerprints_1, fingerprints_2))\n",
    "    if FingerPrint == \"ecfp6fcfp6MACCS\":\n",
    "        fingerprints_out = fingerprints\n",
    "    elif FingerPrint == \"ecfp6\":\n",
    "        fingerprints_out = fingerprints_0\n",
    "    elif FingerPrint == \"fcfp6\":\n",
    "        fingerprints_out = fingerprints_1\n",
    "    elif FingerPrint == \"MACCS\":\n",
    "        fingerprints_out = fingerprints_2\n",
    "    elif FingerPrint == \"ecfp6fcfp6\":\n",
    "        fingerprints_out = fingerprints_3\n",
    "    elif FingerPrint== \"ecfp6MACCS\":\n",
    "        fingerprints_out = fingerprints_4\n",
    "    elif FingerPrint == \"fcfp6MACCS\":\n",
    "        fingerprints_out = fingerprints_5\n",
    "\n",
    "    return fingerprints_out"
   ]
  },
  {
   "cell_type": "code",
   "execution_count": 4,
   "id": "3330f73d-cea7-472f-bae8-2568efad0c1e",
   "metadata": {
    "tags": []
   },
   "outputs": [
    {
     "name": "stdout",
     "output_type": "stream",
     "text": [
      "TCM2000_100t ecfp6\n"
     ]
    },
    {
     "name": "stderr",
     "output_type": "stream",
     "text": [
      "100%|██████████| 30/30 [01:25<00:00,  2.85s/it]\n"
     ]
    },
    {
     "name": "stdout",
     "output_type": "stream",
     "text": [
      "TCM2000_100t ecfp6fcfp6\n"
     ]
    },
    {
     "name": "stderr",
     "output_type": "stream",
     "text": [
      "100%|██████████| 30/30 [03:04<00:00,  6.16s/it]\n"
     ]
    },
    {
     "name": "stdout",
     "output_type": "stream",
     "text": [
      "TCM2000_100t ecfp6fcfp6MACCS\n"
     ]
    },
    {
     "name": "stderr",
     "output_type": "stream",
     "text": [
      "100%|██████████| 30/30 [03:27<00:00,  6.91s/it]\n"
     ]
    },
    {
     "name": "stdout",
     "output_type": "stream",
     "text": [
      "TCM2000_100t ecfp6MACCS\n"
     ]
    },
    {
     "name": "stderr",
     "output_type": "stream",
     "text": [
      "100%|██████████| 30/30 [01:38<00:00,  3.27s/it]\n"
     ]
    },
    {
     "name": "stdout",
     "output_type": "stream",
     "text": [
      "TCM2000_100t fcfp6\n"
     ]
    },
    {
     "name": "stderr",
     "output_type": "stream",
     "text": [
      "100%|██████████| 30/30 [01:24<00:00,  2.80s/it]\n"
     ]
    },
    {
     "name": "stdout",
     "output_type": "stream",
     "text": [
      "TCM2000_100t fcfp6MACCS\n"
     ]
    },
    {
     "name": "stderr",
     "output_type": "stream",
     "text": [
      "100%|██████████| 30/30 [01:35<00:00,  3.19s/it]\n"
     ]
    },
    {
     "name": "stdout",
     "output_type": "stream",
     "text": [
      "TCM2000_100t MACCS\n"
     ]
    },
    {
     "name": "stderr",
     "output_type": "stream",
     "text": [
      "100%|██████████| 30/30 [00:33<00:00,  1.12s/it]\n"
     ]
    },
    {
     "name": "stdout",
     "output_type": "stream",
     "text": [
      "TCM2000_30t ecfp6\n"
     ]
    },
    {
     "name": "stderr",
     "output_type": "stream",
     "text": [
      "100%|██████████| 128/128 [02:42<00:00,  1.27s/it]\n"
     ]
    },
    {
     "name": "stdout",
     "output_type": "stream",
     "text": [
      "TCM2000_30t ecfp6fcfp6\n"
     ]
    },
    {
     "name": "stderr",
     "output_type": "stream",
     "text": [
      "100%|██████████| 128/128 [04:49<00:00,  2.26s/it]\n"
     ]
    },
    {
     "name": "stdout",
     "output_type": "stream",
     "text": [
      "TCM2000_30t ecfp6fcfp6MACCS\n"
     ]
    },
    {
     "name": "stderr",
     "output_type": "stream",
     "text": [
      "100%|██████████| 128/128 [05:18<00:00,  2.49s/it]\n"
     ]
    },
    {
     "name": "stdout",
     "output_type": "stream",
     "text": [
      "TCM2000_30t ecfp6MACCS\n"
     ]
    },
    {
     "name": "stderr",
     "output_type": "stream",
     "text": [
      "100%|██████████| 128/128 [03:00<00:00,  1.41s/it]\n"
     ]
    },
    {
     "name": "stdout",
     "output_type": "stream",
     "text": [
      "TCM2000_30t fcfp6\n"
     ]
    },
    {
     "name": "stderr",
     "output_type": "stream",
     "text": [
      "100%|██████████| 128/128 [02:40<00:00,  1.25s/it]\n"
     ]
    },
    {
     "name": "stdout",
     "output_type": "stream",
     "text": [
      "TCM2000_30t fcfp6MACCS\n"
     ]
    },
    {
     "name": "stderr",
     "output_type": "stream",
     "text": [
      "100%|██████████| 128/128 [02:57<00:00,  1.39s/it]\n"
     ]
    },
    {
     "name": "stdout",
     "output_type": "stream",
     "text": [
      "TCM2000_30t MACCS\n"
     ]
    },
    {
     "name": "stderr",
     "output_type": "stream",
     "text": [
      "100%|██████████| 128/128 [01:32<00:00,  1.39it/s]\n"
     ]
    },
    {
     "name": "stdout",
     "output_type": "stream",
     "text": [
      "TCM2000_50t ecfp6\n"
     ]
    },
    {
     "name": "stderr",
     "output_type": "stream",
     "text": [
      "100%|██████████| 75/75 [02:07<00:00,  1.70s/it]\n"
     ]
    },
    {
     "name": "stdout",
     "output_type": "stream",
     "text": [
      "TCM2000_50t ecfp6fcfp6\n"
     ]
    },
    {
     "name": "stderr",
     "output_type": "stream",
     "text": [
      "100%|██████████| 75/75 [04:05<00:00,  3.27s/it]\n"
     ]
    },
    {
     "name": "stdout",
     "output_type": "stream",
     "text": [
      "TCM2000_50t ecfp6fcfp6MACCS\n"
     ]
    },
    {
     "name": "stderr",
     "output_type": "stream",
     "text": [
      "100%|██████████| 75/75 [04:33<00:00,  3.65s/it]\n"
     ]
    },
    {
     "name": "stdout",
     "output_type": "stream",
     "text": [
      "TCM2000_50t ecfp6MACCS\n"
     ]
    },
    {
     "name": "stderr",
     "output_type": "stream",
     "text": [
      "100%|██████████| 75/75 [02:24<00:00,  1.92s/it]\n"
     ]
    },
    {
     "name": "stdout",
     "output_type": "stream",
     "text": [
      "TCM2000_50t fcfp6\n"
     ]
    },
    {
     "name": "stderr",
     "output_type": "stream",
     "text": [
      "100%|██████████| 75/75 [02:05<00:00,  1.67s/it]\n"
     ]
    },
    {
     "name": "stdout",
     "output_type": "stream",
     "text": [
      "TCM2000_50t fcfp6MACCS\n"
     ]
    },
    {
     "name": "stderr",
     "output_type": "stream",
     "text": [
      "100%|██████████| 75/75 [02:21<00:00,  1.89s/it]\n"
     ]
    },
    {
     "name": "stdout",
     "output_type": "stream",
     "text": [
      "TCM2000_50t MACCS\n"
     ]
    },
    {
     "name": "stderr",
     "output_type": "stream",
     "text": [
      "100%|██████████| 75/75 [01:02<00:00,  1.19it/s]\n"
     ]
    },
    {
     "name": "stdout",
     "output_type": "stream",
     "text": [
      "TCM2000_80t ecfp6\n"
     ]
    },
    {
     "name": "stderr",
     "output_type": "stream",
     "text": [
      "100%|██████████| 39/39 [01:36<00:00,  2.47s/it]\n"
     ]
    },
    {
     "name": "stdout",
     "output_type": "stream",
     "text": [
      "TCM2000_80t ecfp6fcfp6\n"
     ]
    },
    {
     "name": "stderr",
     "output_type": "stream",
     "text": [
      "100%|██████████| 39/39 [03:18<00:00,  5.09s/it]\n"
     ]
    },
    {
     "name": "stdout",
     "output_type": "stream",
     "text": [
      "TCM2000_80t ecfp6fcfp6MACCS\n"
     ]
    },
    {
     "name": "stderr",
     "output_type": "stream",
     "text": [
      "100%|██████████| 39/39 [03:44<00:00,  5.75s/it]\n"
     ]
    },
    {
     "name": "stdout",
     "output_type": "stream",
     "text": [
      "TCM2000_80t ecfp6MACCS\n"
     ]
    },
    {
     "name": "stderr",
     "output_type": "stream",
     "text": [
      "100%|██████████| 39/39 [01:49<00:00,  2.80s/it]\n"
     ]
    },
    {
     "name": "stdout",
     "output_type": "stream",
     "text": [
      "TCM2000_80t fcfp6\n"
     ]
    },
    {
     "name": "stderr",
     "output_type": "stream",
     "text": [
      "100%|██████████| 39/39 [01:32<00:00,  2.38s/it]\n"
     ]
    },
    {
     "name": "stdout",
     "output_type": "stream",
     "text": [
      "TCM2000_80t fcfp6MACCS\n"
     ]
    },
    {
     "name": "stderr",
     "output_type": "stream",
     "text": [
      "100%|██████████| 39/39 [01:46<00:00,  2.74s/it]\n"
     ]
    },
    {
     "name": "stdout",
     "output_type": "stream",
     "text": [
      "TCM2000_80t MACCS\n"
     ]
    },
    {
     "name": "stderr",
     "output_type": "stream",
     "text": [
      "100%|██████████| 39/39 [00:40<00:00,  1.04s/it]\n"
     ]
    },
    {
     "name": "stdout",
     "output_type": "stream",
     "text": [
      "TCM_100t ecfp6\n"
     ]
    },
    {
     "name": "stderr",
     "output_type": "stream",
     "text": [
      "100%|██████████| 23/23 [00:57<00:00,  2.51s/it]\n"
     ]
    },
    {
     "name": "stdout",
     "output_type": "stream",
     "text": [
      "TCM_100t ecfp6fcfp6\n"
     ]
    },
    {
     "name": "stderr",
     "output_type": "stream",
     "text": [
      "100%|██████████| 23/23 [01:59<00:00,  5.19s/it]\n"
     ]
    },
    {
     "name": "stdout",
     "output_type": "stream",
     "text": [
      "TCM_100t ecfp6fcfp6MACCS\n"
     ]
    },
    {
     "name": "stderr",
     "output_type": "stream",
     "text": [
      "100%|██████████| 23/23 [02:14<00:00,  5.87s/it]\n"
     ]
    },
    {
     "name": "stdout",
     "output_type": "stream",
     "text": [
      "TCM_100t ecfp6MACCS\n"
     ]
    },
    {
     "name": "stderr",
     "output_type": "stream",
     "text": [
      "100%|██████████| 23/23 [01:05<00:00,  2.86s/it]\n"
     ]
    },
    {
     "name": "stdout",
     "output_type": "stream",
     "text": [
      "TCM_100t fcfp6\n"
     ]
    },
    {
     "name": "stderr",
     "output_type": "stream",
     "text": [
      "100%|██████████| 23/23 [00:56<00:00,  2.44s/it]\n"
     ]
    },
    {
     "name": "stdout",
     "output_type": "stream",
     "text": [
      "TCM_100t fcfp6MACCS\n"
     ]
    },
    {
     "name": "stderr",
     "output_type": "stream",
     "text": [
      "100%|██████████| 23/23 [01:04<00:00,  2.82s/it]\n"
     ]
    },
    {
     "name": "stdout",
     "output_type": "stream",
     "text": [
      "TCM_100t MACCS\n"
     ]
    },
    {
     "name": "stderr",
     "output_type": "stream",
     "text": [
      "100%|██████████| 23/23 [00:24<00:00,  1.07s/it]\n"
     ]
    },
    {
     "name": "stdout",
     "output_type": "stream",
     "text": [
      "TCM_30t ecfp6\n"
     ]
    },
    {
     "name": "stderr",
     "output_type": "stream",
     "text": [
      "100%|██████████| 114/114 [02:08<00:00,  1.12s/it]\n"
     ]
    },
    {
     "name": "stdout",
     "output_type": "stream",
     "text": [
      "TCM_30t ecfp6fcfp6\n"
     ]
    },
    {
     "name": "stderr",
     "output_type": "stream",
     "text": [
      "100%|██████████| 114/114 [03:37<00:00,  1.91s/it]\n"
     ]
    },
    {
     "name": "stdout",
     "output_type": "stream",
     "text": [
      "TCM_30t ecfp6fcfp6MACCS\n"
     ]
    },
    {
     "name": "stderr",
     "output_type": "stream",
     "text": [
      "100%|██████████| 114/114 [04:00<00:00,  2.11s/it]\n"
     ]
    },
    {
     "name": "stdout",
     "output_type": "stream",
     "text": [
      "TCM_30t ecfp6MACCS\n"
     ]
    },
    {
     "name": "stderr",
     "output_type": "stream",
     "text": [
      "100%|██████████| 114/114 [02:21<00:00,  1.24s/it]\n"
     ]
    },
    {
     "name": "stdout",
     "output_type": "stream",
     "text": [
      "TCM_30t fcfp6\n"
     ]
    },
    {
     "name": "stderr",
     "output_type": "stream",
     "text": [
      "100%|██████████| 114/114 [02:07<00:00,  1.12s/it]\n"
     ]
    },
    {
     "name": "stdout",
     "output_type": "stream",
     "text": [
      "TCM_30t fcfp6MACCS\n"
     ]
    },
    {
     "name": "stderr",
     "output_type": "stream",
     "text": [
      "100%|██████████| 114/114 [02:20<00:00,  1.24s/it]\n"
     ]
    },
    {
     "name": "stdout",
     "output_type": "stream",
     "text": [
      "TCM_30t MACCS\n"
     ]
    },
    {
     "name": "stderr",
     "output_type": "stream",
     "text": [
      "100%|██████████| 114/114 [01:19<00:00,  1.43it/s]\n"
     ]
    },
    {
     "name": "stdout",
     "output_type": "stream",
     "text": [
      "TCM_50t ecfp6\n"
     ]
    },
    {
     "name": "stderr",
     "output_type": "stream",
     "text": [
      "100%|██████████| 56/56 [01:28<00:00,  1.59s/it]\n"
     ]
    },
    {
     "name": "stdout",
     "output_type": "stream",
     "text": [
      "TCM_50t ecfp6fcfp6\n"
     ]
    },
    {
     "name": "stderr",
     "output_type": "stream",
     "text": [
      "100%|██████████| 56/56 [02:49<00:00,  3.04s/it]\n"
     ]
    },
    {
     "name": "stdout",
     "output_type": "stream",
     "text": [
      "TCM_50t ecfp6fcfp6MACCS\n"
     ]
    },
    {
     "name": "stderr",
     "output_type": "stream",
     "text": [
      "100%|██████████| 56/56 [03:09<00:00,  3.38s/it]\n"
     ]
    },
    {
     "name": "stdout",
     "output_type": "stream",
     "text": [
      "TCM_50t ecfp6MACCS\n"
     ]
    },
    {
     "name": "stderr",
     "output_type": "stream",
     "text": [
      "100%|██████████| 56/56 [01:41<00:00,  1.80s/it]\n"
     ]
    },
    {
     "name": "stdout",
     "output_type": "stream",
     "text": [
      "TCM_50t fcfp6\n"
     ]
    },
    {
     "name": "stderr",
     "output_type": "stream",
     "text": [
      "100%|██████████| 56/56 [01:27<00:00,  1.56s/it]\n"
     ]
    },
    {
     "name": "stdout",
     "output_type": "stream",
     "text": [
      "TCM_50t fcfp6MACCS\n"
     ]
    },
    {
     "name": "stderr",
     "output_type": "stream",
     "text": [
      "100%|██████████| 56/56 [01:39<00:00,  1.78s/it]\n"
     ]
    },
    {
     "name": "stdout",
     "output_type": "stream",
     "text": [
      "TCM_50t MACCS\n"
     ]
    },
    {
     "name": "stderr",
     "output_type": "stream",
     "text": [
      "100%|██████████| 56/56 [00:46<00:00,  1.21it/s]\n"
     ]
    },
    {
     "name": "stdout",
     "output_type": "stream",
     "text": [
      "TCM_80t ecfp6\n"
     ]
    },
    {
     "name": "stderr",
     "output_type": "stream",
     "text": [
      "100%|██████████| 31/31 [01:07<00:00,  2.19s/it]\n"
     ]
    },
    {
     "name": "stdout",
     "output_type": "stream",
     "text": [
      "TCM_80t ecfp6fcfp6\n"
     ]
    },
    {
     "name": "stderr",
     "output_type": "stream",
     "text": [
      "100%|██████████| 31/31 [02:16<00:00,  4.39s/it]\n"
     ]
    },
    {
     "name": "stdout",
     "output_type": "stream",
     "text": [
      "TCM_80t ecfp6fcfp6MACCS\n"
     ]
    },
    {
     "name": "stderr",
     "output_type": "stream",
     "text": [
      "100%|██████████| 31/31 [02:33<00:00,  4.97s/it]\n"
     ]
    },
    {
     "name": "stdout",
     "output_type": "stream",
     "text": [
      "TCM_80t ecfp6MACCS\n"
     ]
    },
    {
     "name": "stderr",
     "output_type": "stream",
     "text": [
      "100%|██████████| 31/31 [01:16<00:00,  2.48s/it]\n"
     ]
    },
    {
     "name": "stdout",
     "output_type": "stream",
     "text": [
      "TCM_80t fcfp6\n"
     ]
    },
    {
     "name": "stderr",
     "output_type": "stream",
     "text": [
      "100%|██████████| 31/31 [01:05<00:00,  2.11s/it]\n"
     ]
    },
    {
     "name": "stdout",
     "output_type": "stream",
     "text": [
      "TCM_80t fcfp6MACCS\n"
     ]
    },
    {
     "name": "stderr",
     "output_type": "stream",
     "text": [
      "100%|██████████| 31/31 [01:15<00:00,  2.43s/it]\n"
     ]
    },
    {
     "name": "stdout",
     "output_type": "stream",
     "text": [
      "TCM_80t MACCS\n"
     ]
    },
    {
     "name": "stderr",
     "output_type": "stream",
     "text": [
      "100%|██████████| 31/31 [00:30<00:00,  1.02it/s]\n"
     ]
    }
   ],
   "source": [
    "# make results directory \n",
    "FingerPrintSet = ['ecfp6','ecfp6fcfp6','ecfp6fcfp6MACCS','ecfp6MACCS','fcfp6','fcfp6MACCS','MACCS']\n",
    "for FingerPrint in FingerPrintSet:\n",
    "    FingerPrint_path = './results/'+FingerPrint\n",
    "    if os.path.isdir(FingerPrint_path):  \n",
    "        pass\n",
    "    else:\n",
    "        os.makedirs(FingerPrint_path)\n",
    "\n",
    "\n",
    "#文件路径准备\n",
    "basePath = os.getcwd()\n",
    "resultPath = basePath+'/results'\n",
    "training_path = basePath+'/training_data'\n",
    "training_list = os.listdir(training_path)\n",
    "\n",
    "\n",
    "for training_list_set in training_list:\n",
    "\n",
    "    pertarget_files = training_path+'/'+training_list_set\n",
    "\n",
    "    # 测试时修改\n",
    "    files_list = get_file_list(pertarget_files)\n",
    "\n",
    "    #指纹组合\n",
    "    FingerPrintSet = ['ecfp6','ecfp6fcfp6','ecfp6fcfp6MACCS','ecfp6MACCS','fcfp6','fcfp6MACCS','MACCS']\n",
    "\n",
    "\n",
    "    # 遍历所有的指纹组合\n",
    "\n",
    "    for FingerPrint in FingerPrintSet:    \n",
    "        \n",
    "        targets = []\n",
    "        prauc_params = []\n",
    "        prauc_score = []\n",
    "        rocauc_params = []\n",
    "        rocauc_score = []\n",
    "        \n",
    "        #遍历每个文件，编码features，执行nested_cv\n",
    "        print(training_list_set, FingerPrint)\n",
    "        for tar_id in tqdm.tqdm(files_list):\n",
    "            data = pd.read_csv(pertarget_files+'/'+tar_id, header=0,index_col=False)\n",
    "            features = batchECFP(data.iloc[:,2])\n",
    "            y = data.iloc[:,4]\n",
    "            result = nested_cv(features,y)\n",
    "\n",
    "            #记录信息，为输出文件作准备\n",
    "            chembl_id = tar_id.split('.')[0]\n",
    "            targets.append(chembl_id)\n",
    "            prauc_params.append(result[0])\n",
    "            prauc_score.append(result[1])\n",
    "            rocauc_params.append(result[2])\n",
    "            rocauc_score.append(result[3])\n",
    "\n",
    "        #整理文件内容,并输出\n",
    "        data={'targets':targets,'prauc_params':prauc_params, 'prauc_score':prauc_score, \n",
    "            'rocauc_params':rocauc_params, 'rocauc_score':rocauc_score}\n",
    "        roc_data = pd.DataFrame(data) \n",
    "        roc_data.to_csv(resultPath+'/'+FingerPrint+'/'+FingerPrint+'_'+algorithm+'_'+training_list_set+'_rocmean.csv',index=False)\n"
   ]
  }
 ],
 "metadata": {
  "kernelspec": {
   "display_name": "base",
   "language": "python",
   "name": "python3"
  },
  "language_info": {
   "codemirror_mode": {
    "name": "ipython",
    "version": 3
   },
   "file_extension": ".py",
   "mimetype": "text/x-python",
   "name": "python",
   "nbconvert_exporter": "python",
   "pygments_lexer": "ipython3",
   "version": "3.9.18"
  }
 },
 "nbformat": 4,
 "nbformat_minor": 5
}
