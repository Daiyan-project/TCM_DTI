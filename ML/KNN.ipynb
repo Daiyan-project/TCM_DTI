{
 "cells": [
  {
   "cell_type": "code",
   "execution_count": 1,
   "id": "df566400-08b1-4aab-ac1e-118872fc071e",
   "metadata": {
    "tags": []
   },
   "outputs": [],
   "source": [
    "import os\n",
    "import tqdm\n",
    "import pandas as pd\n",
    "import numpy as np\n",
    "np.random.seed(1)\n",
    "import warnings\n",
    "warnings.filterwarnings('ignore')\n",
    "from rdkit.Chem import MACCSkeys\n",
    "from rdkit.Chem import MolFromSmiles\n",
    "from rdkit.Chem.AllChem import GetMorganFingerprintAsBitVect\n",
    "from sklearn.metrics import average_precision_score,roc_auc_score\n",
    "from sklearn.model_selection import GridSearchCV, StratifiedKFold\n",
    "\n",
    "#更换算法时修改\n",
    "from sklearn.neighbors import KNeighborsClassifier\n",
    "algorithm = 'KNN'"
   ]
  },
  {
   "cell_type": "code",
   "execution_count": 2,
   "metadata": {},
   "outputs": [],
   "source": [
    "# PRAUC and ROCAUC\n",
    "def nested_cv(X,y):\n",
    "\n",
    "    # 更换算法时修改\n",
    "    model = KNeighborsClassifier()\n",
    "    out_fold_number = 3\n",
    "    param_grid = {\n",
    "        \"n_neighbors\":[x for x in range(1,21,2) if x <= len(X)/out_fold_number]\n",
    "    }\n",
    "    \n",
    "    # Set up outer cross-validation loop\n",
    "    outer_cv = StratifiedKFold(n_splits=out_fold_number, shuffle=True, random_state=1)\n",
    "\n",
    "    prauc_scores = []\n",
    "    rocauc_scores = []\n",
    "    prauc_best_params = []\n",
    "    rocauc_best_params = []\n",
    "\n",
    "    # Execute outer splits\n",
    "    for train_index, test_index in outer_cv.split(X, y):\n",
    "        X_train, X_test = X[train_index, :], X[test_index, :]\n",
    "        y_train, y_test = y[train_index], y[test_index]\n",
    "\n",
    "        # Set up inner cross-validation loop\n",
    "        inner_cv = StratifiedKFold(n_splits=2, shuffle=True, random_state=1)\n",
    "\n",
    "        # Create GridSearchCV object\n",
    "        clf1 = GridSearchCV(estimator=model, param_grid=param_grid, cv=inner_cv, scoring='average_precision', error_score='raise')\n",
    "        clf2 = GridSearchCV(estimator=model, param_grid=param_grid, cv=inner_cv, scoring='roc_auc', error_score='raise')\n",
    "\n",
    "        # Fit GridSearchCV on the training set\n",
    "        clf1.fit(X_train, y_train)\n",
    "        clf2.fit(X_train, y_train)\n",
    "\n",
    "        # Predict probabilities on the test set\n",
    "        y_pred_proba1 = clf1.predict_proba(X_test)\n",
    "        y_pred_proba2 = clf2.predict_proba(X_test)\n",
    "\n",
    "        # Calculate PR AUC score for the fold\n",
    "        prauc_score = average_precision_score(y_test, y_pred_proba1[:, 1])\n",
    "        rocauc_score = roc_auc_score(y_test, y_pred_proba2[:, 1])\n",
    "\n",
    "        prauc_scores.append(prauc_score)\n",
    "        prauc_best_params.append(clf1.best_params_)\n",
    "        rocauc_scores.append(rocauc_score)\n",
    "        rocauc_best_params.append(clf2.best_params_)\n",
    "        \n",
    "\n",
    "    # Calculate average PR AUC score across all folds\n",
    "    average_prauc_score = np.mean(prauc_scores)\n",
    "    average_rocauc_score = np.mean(rocauc_scores)\n",
    "\n",
    "    # Determine the best parameters based on the highest average PR AUC score\n",
    "    best_prauc_params_overall = prauc_best_params[np.argmax(prauc_scores)]\n",
    "    best_rocauc_params_overall = rocauc_best_params[np.argmax(rocauc_scores)]\n",
    "    \n",
    "    return best_prauc_params_overall, average_prauc_score, best_rocauc_params_overall, average_rocauc_score"
   ]
  },
  {
   "cell_type": "code",
   "execution_count": 3,
   "id": "625afd76-3b18-46d5-883d-67030faa1981",
   "metadata": {
    "tags": []
   },
   "outputs": [],
   "source": [
    "# Read file information in a folder\n",
    "def get_file_list(file_folder):\n",
    "    for root, dirs, file_list in os.walk(file_folder):\n",
    "        return file_list\n",
    "\n",
    "\n",
    "# SMILES to fingerprint feature conversion / Different combinations of fingerprint features\n",
    "def batchECFP(smiles, radius=3, nBits=2048):\n",
    "    smiles = np.array(smiles)\n",
    "    n = len(smiles)\n",
    "    fingerprints_0 = np.zeros((n, nBits), dtype=int)\n",
    "    fingerprints_1 = np.zeros((n, nBits), dtype=int)\n",
    "    MACCSArray = []\n",
    "    for i in range(n):\n",
    "        mol = MolFromSmiles(smiles[i])\n",
    "        # ecfp6\n",
    "        fp = GetMorganFingerprintAsBitVect(mol, radius, nBits=nBits)\n",
    "        # fcfp6\n",
    "        fp_1 = GetMorganFingerprintAsBitVect(\n",
    "            mol, radius, nBits=nBits, useFeatures=True)\n",
    "        # MACCS\n",
    "        MACCSArray.append(MACCSkeys.GenMACCSKeys(mol))\n",
    "        fingerprints_0[i] = np.array(list(fp.ToBitString()))\n",
    "        fingerprints_1[i] = np.array(list(fp_1.ToBitString()))\n",
    "    fingerprints_2 = np.array(MACCSArray)\n",
    "    fingerprints = np.hstack((fingerprints_0, fingerprints_1, fingerprints_2))\n",
    "    fingerprints_3 = np.hstack((fingerprints_0, fingerprints_1))\n",
    "    fingerprints_4 = np.hstack((fingerprints_0, fingerprints_2))\n",
    "    fingerprints_5 = np.hstack((fingerprints_1, fingerprints_2))\n",
    "    if FingerPrint == \"ecfp6fcfp6MACCS\":\n",
    "        fingerprints_out = fingerprints\n",
    "    elif FingerPrint == \"ecfp6\":\n",
    "        fingerprints_out = fingerprints_0\n",
    "    elif FingerPrint == \"fcfp6\":\n",
    "        fingerprints_out = fingerprints_1\n",
    "    elif FingerPrint == \"MACCS\":\n",
    "        fingerprints_out = fingerprints_2\n",
    "    elif FingerPrint == \"ecfp6fcfp6\":\n",
    "        fingerprints_out = fingerprints_3\n",
    "    elif FingerPrint== \"ecfp6MACCS\":\n",
    "        fingerprints_out = fingerprints_4\n",
    "    elif FingerPrint == \"fcfp6MACCS\":\n",
    "        fingerprints_out = fingerprints_5\n",
    "\n",
    "    return fingerprints_out"
   ]
  },
  {
   "cell_type": "code",
   "execution_count": 4,
   "id": "3330f73d-cea7-472f-bae8-2568efad0c1e",
   "metadata": {
    "tags": []
   },
   "outputs": [
    {
     "name": "stdout",
     "output_type": "stream",
     "text": [
      "TCM2000_100t ecfp6\n"
     ]
    },
    {
     "name": "stderr",
     "output_type": "stream",
     "text": [
      "100%|██████████| 30/30 [00:26<00:00,  1.13it/s]\n"
     ]
    },
    {
     "name": "stdout",
     "output_type": "stream",
     "text": [
      "TCM2000_100t ecfp6fcfp6\n"
     ]
    },
    {
     "name": "stderr",
     "output_type": "stream",
     "text": [
      "100%|██████████| 30/30 [00:30<00:00,  1.02s/it]\n"
     ]
    },
    {
     "name": "stdout",
     "output_type": "stream",
     "text": [
      "TCM2000_100t ecfp6fcfp6MACCS\n"
     ]
    },
    {
     "name": "stderr",
     "output_type": "stream",
     "text": [
      "100%|██████████| 30/30 [00:31<00:00,  1.04s/it]\n"
     ]
    },
    {
     "name": "stdout",
     "output_type": "stream",
     "text": [
      "TCM2000_100t ecfp6MACCS\n"
     ]
    },
    {
     "name": "stderr",
     "output_type": "stream",
     "text": [
      "100%|██████████| 30/30 [00:27<00:00,  1.10it/s]\n"
     ]
    },
    {
     "name": "stdout",
     "output_type": "stream",
     "text": [
      "TCM2000_100t fcfp6\n"
     ]
    },
    {
     "name": "stderr",
     "output_type": "stream",
     "text": [
      "100%|██████████| 30/30 [00:27<00:00,  1.10it/s]\n"
     ]
    },
    {
     "name": "stdout",
     "output_type": "stream",
     "text": [
      "TCM2000_100t fcfp6MACCS\n"
     ]
    },
    {
     "name": "stderr",
     "output_type": "stream",
     "text": [
      "100%|██████████| 30/30 [00:27<00:00,  1.10it/s]\n"
     ]
    },
    {
     "name": "stdout",
     "output_type": "stream",
     "text": [
      "TCM2000_100t MACCS\n"
     ]
    },
    {
     "name": "stderr",
     "output_type": "stream",
     "text": [
      "100%|██████████| 30/30 [00:22<00:00,  1.33it/s]\n"
     ]
    },
    {
     "name": "stdout",
     "output_type": "stream",
     "text": [
      "TCM2000_30t ecfp6\n"
     ]
    },
    {
     "name": "stderr",
     "output_type": "stream",
     "text": [
      "100%|██████████| 128/128 [01:01<00:00,  2.07it/s]\n"
     ]
    },
    {
     "name": "stdout",
     "output_type": "stream",
     "text": [
      "TCM2000_30t ecfp6fcfp6\n"
     ]
    },
    {
     "name": "stderr",
     "output_type": "stream",
     "text": [
      "100%|██████████| 128/128 [01:09<00:00,  1.84it/s]\n"
     ]
    },
    {
     "name": "stdout",
     "output_type": "stream",
     "text": [
      "TCM2000_30t ecfp6fcfp6MACCS\n"
     ]
    },
    {
     "name": "stderr",
     "output_type": "stream",
     "text": [
      "100%|██████████| 128/128 [01:08<00:00,  1.86it/s]\n"
     ]
    },
    {
     "name": "stdout",
     "output_type": "stream",
     "text": [
      "TCM2000_30t ecfp6MACCS\n"
     ]
    },
    {
     "name": "stderr",
     "output_type": "stream",
     "text": [
      "100%|██████████| 128/128 [01:01<00:00,  2.07it/s]\n"
     ]
    },
    {
     "name": "stdout",
     "output_type": "stream",
     "text": [
      "TCM2000_30t fcfp6\n"
     ]
    },
    {
     "name": "stderr",
     "output_type": "stream",
     "text": [
      "100%|██████████| 128/128 [01:00<00:00,  2.10it/s]\n"
     ]
    },
    {
     "name": "stdout",
     "output_type": "stream",
     "text": [
      "TCM2000_30t fcfp6MACCS\n"
     ]
    },
    {
     "name": "stderr",
     "output_type": "stream",
     "text": [
      "100%|██████████| 128/128 [01:01<00:00,  2.09it/s]\n"
     ]
    },
    {
     "name": "stdout",
     "output_type": "stream",
     "text": [
      "TCM2000_30t MACCS\n"
     ]
    },
    {
     "name": "stderr",
     "output_type": "stream",
     "text": [
      "100%|██████████| 128/128 [00:52<00:00,  2.42it/s]\n"
     ]
    },
    {
     "name": "stdout",
     "output_type": "stream",
     "text": [
      "TCM2000_50t ecfp6\n"
     ]
    },
    {
     "name": "stderr",
     "output_type": "stream",
     "text": [
      "100%|██████████| 75/75 [00:46<00:00,  1.61it/s]\n"
     ]
    },
    {
     "name": "stdout",
     "output_type": "stream",
     "text": [
      "TCM2000_50t ecfp6fcfp6\n"
     ]
    },
    {
     "name": "stderr",
     "output_type": "stream",
     "text": [
      "100%|██████████| 75/75 [00:52<00:00,  1.42it/s]\n"
     ]
    },
    {
     "name": "stdout",
     "output_type": "stream",
     "text": [
      "TCM2000_50t ecfp6fcfp6MACCS\n"
     ]
    },
    {
     "name": "stderr",
     "output_type": "stream",
     "text": [
      "100%|██████████| 75/75 [00:53<00:00,  1.41it/s]\n"
     ]
    },
    {
     "name": "stdout",
     "output_type": "stream",
     "text": [
      "TCM2000_50t ecfp6MACCS\n"
     ]
    },
    {
     "name": "stderr",
     "output_type": "stream",
     "text": [
      "100%|██████████| 75/75 [00:46<00:00,  1.60it/s]\n"
     ]
    },
    {
     "name": "stdout",
     "output_type": "stream",
     "text": [
      "TCM2000_50t fcfp6\n"
     ]
    },
    {
     "name": "stderr",
     "output_type": "stream",
     "text": [
      "100%|██████████| 75/75 [00:46<00:00,  1.62it/s]\n"
     ]
    },
    {
     "name": "stdout",
     "output_type": "stream",
     "text": [
      "TCM2000_50t fcfp6MACCS\n"
     ]
    },
    {
     "name": "stderr",
     "output_type": "stream",
     "text": [
      "100%|██████████| 75/75 [00:46<00:00,  1.60it/s]\n"
     ]
    },
    {
     "name": "stdout",
     "output_type": "stream",
     "text": [
      "TCM2000_50t MACCS\n"
     ]
    },
    {
     "name": "stderr",
     "output_type": "stream",
     "text": [
      "100%|██████████| 75/75 [00:39<00:00,  1.88it/s]\n"
     ]
    },
    {
     "name": "stdout",
     "output_type": "stream",
     "text": [
      "TCM2000_80t ecfp6\n"
     ]
    },
    {
     "name": "stderr",
     "output_type": "stream",
     "text": [
      "100%|██████████| 39/39 [00:31<00:00,  1.25it/s]\n"
     ]
    },
    {
     "name": "stdout",
     "output_type": "stream",
     "text": [
      "TCM2000_80t ecfp6fcfp6\n"
     ]
    },
    {
     "name": "stderr",
     "output_type": "stream",
     "text": [
      "100%|██████████| 39/39 [00:37<00:00,  1.05it/s]\n"
     ]
    },
    {
     "name": "stdout",
     "output_type": "stream",
     "text": [
      "TCM2000_80t ecfp6fcfp6MACCS\n"
     ]
    },
    {
     "name": "stderr",
     "output_type": "stream",
     "text": [
      "100%|██████████| 39/39 [00:37<00:00,  1.05it/s]\n"
     ]
    },
    {
     "name": "stdout",
     "output_type": "stream",
     "text": [
      "TCM2000_80t ecfp6MACCS\n"
     ]
    },
    {
     "name": "stderr",
     "output_type": "stream",
     "text": [
      "100%|██████████| 39/39 [00:34<00:00,  1.15it/s]\n"
     ]
    },
    {
     "name": "stdout",
     "output_type": "stream",
     "text": [
      "TCM2000_80t fcfp6\n"
     ]
    },
    {
     "name": "stderr",
     "output_type": "stream",
     "text": [
      "100%|██████████| 39/39 [00:31<00:00,  1.22it/s]\n"
     ]
    },
    {
     "name": "stdout",
     "output_type": "stream",
     "text": [
      "TCM2000_80t fcfp6MACCS\n"
     ]
    },
    {
     "name": "stderr",
     "output_type": "stream",
     "text": [
      "100%|██████████| 39/39 [00:41<00:00,  1.06s/it]\n"
     ]
    },
    {
     "name": "stdout",
     "output_type": "stream",
     "text": [
      "TCM2000_80t MACCS\n"
     ]
    },
    {
     "name": "stderr",
     "output_type": "stream",
     "text": [
      "100%|██████████| 39/39 [00:34<00:00,  1.12it/s]\n"
     ]
    },
    {
     "name": "stdout",
     "output_type": "stream",
     "text": [
      "TCM_100t ecfp6\n"
     ]
    },
    {
     "name": "stderr",
     "output_type": "stream",
     "text": [
      "100%|██████████| 23/23 [00:22<00:00,  1.03it/s]\n"
     ]
    },
    {
     "name": "stdout",
     "output_type": "stream",
     "text": [
      "TCM_100t ecfp6fcfp6\n"
     ]
    },
    {
     "name": "stderr",
     "output_type": "stream",
     "text": [
      "100%|██████████| 23/23 [00:22<00:00,  1.04it/s]\n"
     ]
    },
    {
     "name": "stdout",
     "output_type": "stream",
     "text": [
      "TCM_100t ecfp6fcfp6MACCS\n"
     ]
    },
    {
     "name": "stderr",
     "output_type": "stream",
     "text": [
      "100%|██████████| 23/23 [00:30<00:00,  1.34s/it]\n"
     ]
    },
    {
     "name": "stdout",
     "output_type": "stream",
     "text": [
      "TCM_100t ecfp6MACCS\n"
     ]
    },
    {
     "name": "stderr",
     "output_type": "stream",
     "text": [
      "100%|██████████| 23/23 [00:26<00:00,  1.15s/it]\n"
     ]
    },
    {
     "name": "stdout",
     "output_type": "stream",
     "text": [
      "TCM_100t fcfp6\n"
     ]
    },
    {
     "name": "stderr",
     "output_type": "stream",
     "text": [
      "100%|██████████| 23/23 [00:26<00:00,  1.17s/it]\n"
     ]
    },
    {
     "name": "stdout",
     "output_type": "stream",
     "text": [
      "TCM_100t fcfp6MACCS\n"
     ]
    },
    {
     "name": "stderr",
     "output_type": "stream",
     "text": [
      "100%|██████████| 23/23 [00:21<00:00,  1.09it/s]\n"
     ]
    },
    {
     "name": "stdout",
     "output_type": "stream",
     "text": [
      "TCM_100t MACCS\n"
     ]
    },
    {
     "name": "stderr",
     "output_type": "stream",
     "text": [
      "100%|██████████| 23/23 [00:16<00:00,  1.42it/s]\n"
     ]
    },
    {
     "name": "stdout",
     "output_type": "stream",
     "text": [
      "TCM_30t ecfp6\n"
     ]
    },
    {
     "name": "stderr",
     "output_type": "stream",
     "text": [
      "100%|██████████| 114/114 [00:50<00:00,  2.25it/s]\n"
     ]
    },
    {
     "name": "stdout",
     "output_type": "stream",
     "text": [
      "TCM_30t ecfp6fcfp6\n"
     ]
    },
    {
     "name": "stderr",
     "output_type": "stream",
     "text": [
      "100%|██████████| 114/114 [00:56<00:00,  2.02it/s]\n"
     ]
    },
    {
     "name": "stdout",
     "output_type": "stream",
     "text": [
      "TCM_30t ecfp6fcfp6MACCS\n"
     ]
    },
    {
     "name": "stderr",
     "output_type": "stream",
     "text": [
      "100%|██████████| 114/114 [00:57<00:00,  2.00it/s]\n"
     ]
    },
    {
     "name": "stdout",
     "output_type": "stream",
     "text": [
      "TCM_30t ecfp6MACCS\n"
     ]
    },
    {
     "name": "stderr",
     "output_type": "stream",
     "text": [
      "100%|██████████| 114/114 [00:51<00:00,  2.22it/s]\n"
     ]
    },
    {
     "name": "stdout",
     "output_type": "stream",
     "text": [
      "TCM_30t fcfp6\n"
     ]
    },
    {
     "name": "stderr",
     "output_type": "stream",
     "text": [
      "100%|██████████| 114/114 [00:51<00:00,  2.23it/s]\n"
     ]
    },
    {
     "name": "stdout",
     "output_type": "stream",
     "text": [
      "TCM_30t fcfp6MACCS\n"
     ]
    },
    {
     "name": "stderr",
     "output_type": "stream",
     "text": [
      "100%|██████████| 114/114 [00:51<00:00,  2.20it/s]\n"
     ]
    },
    {
     "name": "stdout",
     "output_type": "stream",
     "text": [
      "TCM_30t MACCS\n"
     ]
    },
    {
     "name": "stderr",
     "output_type": "stream",
     "text": [
      "100%|██████████| 114/114 [00:55<00:00,  2.04it/s]\n"
     ]
    },
    {
     "name": "stdout",
     "output_type": "stream",
     "text": [
      "TCM_50t ecfp6\n"
     ]
    },
    {
     "name": "stderr",
     "output_type": "stream",
     "text": [
      "100%|██████████| 56/56 [00:45<00:00,  1.23it/s]\n"
     ]
    },
    {
     "name": "stdout",
     "output_type": "stream",
     "text": [
      "TCM_50t ecfp6fcfp6\n"
     ]
    },
    {
     "name": "stderr",
     "output_type": "stream",
     "text": [
      "100%|██████████| 56/56 [00:48<00:00,  1.15it/s]\n"
     ]
    },
    {
     "name": "stdout",
     "output_type": "stream",
     "text": [
      "TCM_50t ecfp6fcfp6MACCS\n"
     ]
    },
    {
     "name": "stderr",
     "output_type": "stream",
     "text": [
      "100%|██████████| 56/56 [00:46<00:00,  1.21it/s]\n"
     ]
    },
    {
     "name": "stdout",
     "output_type": "stream",
     "text": [
      "TCM_50t ecfp6MACCS\n"
     ]
    },
    {
     "name": "stderr",
     "output_type": "stream",
     "text": [
      "100%|██████████| 56/56 [00:43<00:00,  1.29it/s]\n"
     ]
    },
    {
     "name": "stdout",
     "output_type": "stream",
     "text": [
      "TCM_50t fcfp6\n"
     ]
    },
    {
     "name": "stderr",
     "output_type": "stream",
     "text": [
      "100%|██████████| 56/56 [00:34<00:00,  1.62it/s]\n"
     ]
    },
    {
     "name": "stdout",
     "output_type": "stream",
     "text": [
      "TCM_50t fcfp6MACCS\n"
     ]
    },
    {
     "name": "stderr",
     "output_type": "stream",
     "text": [
      "100%|██████████| 56/56 [00:34<00:00,  1.61it/s]\n"
     ]
    },
    {
     "name": "stdout",
     "output_type": "stream",
     "text": [
      "TCM_50t MACCS\n"
     ]
    },
    {
     "name": "stderr",
     "output_type": "stream",
     "text": [
      "100%|██████████| 56/56 [00:29<00:00,  1.90it/s]\n"
     ]
    },
    {
     "name": "stdout",
     "output_type": "stream",
     "text": [
      "TCM_80t ecfp6\n"
     ]
    },
    {
     "name": "stderr",
     "output_type": "stream",
     "text": [
      "100%|██████████| 31/31 [00:23<00:00,  1.34it/s]\n"
     ]
    },
    {
     "name": "stdout",
     "output_type": "stream",
     "text": [
      "TCM_80t ecfp6fcfp6\n"
     ]
    },
    {
     "name": "stderr",
     "output_type": "stream",
     "text": [
      "100%|██████████| 31/31 [00:35<00:00,  1.14s/it]\n"
     ]
    },
    {
     "name": "stdout",
     "output_type": "stream",
     "text": [
      "TCM_80t ecfp6fcfp6MACCS\n"
     ]
    },
    {
     "name": "stderr",
     "output_type": "stream",
     "text": [
      "100%|██████████| 31/31 [00:32<00:00,  1.04s/it]\n"
     ]
    },
    {
     "name": "stdout",
     "output_type": "stream",
     "text": [
      "TCM_80t ecfp6MACCS\n"
     ]
    },
    {
     "name": "stderr",
     "output_type": "stream",
     "text": [
      "100%|██████████| 31/31 [00:24<00:00,  1.28it/s]\n"
     ]
    },
    {
     "name": "stdout",
     "output_type": "stream",
     "text": [
      "TCM_80t fcfp6\n"
     ]
    },
    {
     "name": "stderr",
     "output_type": "stream",
     "text": [
      "100%|██████████| 31/31 [00:23<00:00,  1.31it/s]\n"
     ]
    },
    {
     "name": "stdout",
     "output_type": "stream",
     "text": [
      "TCM_80t fcfp6MACCS\n"
     ]
    },
    {
     "name": "stderr",
     "output_type": "stream",
     "text": [
      "100%|██████████| 31/31 [00:24<00:00,  1.29it/s]\n"
     ]
    },
    {
     "name": "stdout",
     "output_type": "stream",
     "text": [
      "TCM_80t MACCS\n"
     ]
    },
    {
     "name": "stderr",
     "output_type": "stream",
     "text": [
      "100%|██████████| 31/31 [00:19<00:00,  1.56it/s]\n"
     ]
    }
   ],
   "source": [
    "# make results directory \n",
    "FingerPrintSet = ['ecfp6','ecfp6fcfp6','ecfp6fcfp6MACCS','ecfp6MACCS','fcfp6','fcfp6MACCS','MACCS']\n",
    "for FingerPrint in FingerPrintSet:\n",
    "    FingerPrint_path = './results/'+FingerPrint\n",
    "    if os.path.isdir(FingerPrint_path):  \n",
    "        pass\n",
    "    else:\n",
    "        os.makedirs(FingerPrint_path)\n",
    "\n",
    "\n",
    "#文件路径准备\n",
    "basePath = os.getcwd()\n",
    "resultPath = basePath+'/results'\n",
    "training_path = basePath+'/training_data'\n",
    "training_list = os.listdir(training_path)\n",
    "\n",
    "\n",
    "for training_list_set in training_list:\n",
    "\n",
    "    pertarget_files = training_path+'/'+training_list_set\n",
    "\n",
    "    # 测试时修改\n",
    "    files_list = get_file_list(pertarget_files)\n",
    "\n",
    "    #指纹组合\n",
    "    FingerPrintSet = ['ecfp6','ecfp6fcfp6','ecfp6fcfp6MACCS','ecfp6MACCS','fcfp6','fcfp6MACCS','MACCS']\n",
    "\n",
    "\n",
    "    # 遍历所有的指纹组合\n",
    "\n",
    "    for FingerPrint in FingerPrintSet:    \n",
    "        \n",
    "        targets = []\n",
    "        prauc_params = []\n",
    "        prauc_score = []\n",
    "        rocauc_params = []\n",
    "        rocauc_score = []\n",
    "        \n",
    "        #遍历每个文件，编码features，执行nested_cv\n",
    "        print(training_list_set, FingerPrint)\n",
    "        for tar_id in tqdm.tqdm(files_list):\n",
    "            data = pd.read_csv(pertarget_files+'/'+tar_id, header=0,index_col=False)\n",
    "            features = batchECFP(data.iloc[:,2])\n",
    "            y = data.iloc[:,4]\n",
    "            result = nested_cv(features,y)\n",
    "\n",
    "            #记录信息，为输出文件作准备\n",
    "            chembl_id = tar_id.split('.')[0]\n",
    "            targets.append(chembl_id)\n",
    "            prauc_params.append(result[0])\n",
    "            prauc_score.append(result[1])\n",
    "            rocauc_params.append(result[2])\n",
    "            rocauc_score.append(result[3])\n",
    "\n",
    "        #整理文件内容,并输出\n",
    "        data={'targets':targets,'prauc_params':prauc_params, 'prauc_score':prauc_score, \n",
    "            'rocauc_params':rocauc_params, 'rocauc_score':rocauc_score}\n",
    "        roc_data = pd.DataFrame(data) \n",
    "        roc_data.to_csv(resultPath+'/'+FingerPrint+'/'+FingerPrint+'_'+algorithm+'_'+training_list_set+'_rocmean.csv',index=False)\n"
   ]
  }
 ],
 "metadata": {
  "kernelspec": {
   "display_name": "base",
   "language": "python",
   "name": "python3"
  },
  "language_info": {
   "codemirror_mode": {
    "name": "ipython",
    "version": 3
   },
   "file_extension": ".py",
   "mimetype": "text/x-python",
   "name": "python",
   "nbconvert_exporter": "python",
   "pygments_lexer": "ipython3",
   "version": "3.11.0"
  }
 },
 "nbformat": 4,
 "nbformat_minor": 5
}
