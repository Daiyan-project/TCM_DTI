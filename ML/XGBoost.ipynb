{
 "cells": [
  {
   "cell_type": "code",
   "execution_count": null,
   "id": "df566400-08b1-4aab-ac1e-118872fc071e",
   "metadata": {
    "tags": []
   },
   "outputs": [],
   "source": [
    "import os\n",
    "import tqdm\n",
    "import pandas as pd\n",
    "import numpy as np\n",
    "np.random.seed(1)\n",
    "import warnings\n",
    "warnings.filterwarnings('ignore')\n",
    "from rdkit.Chem import MACCSkeys\n",
    "from rdkit.Chem import MolFromSmiles\n",
    "from rdkit.Chem.AllChem import GetMorganFingerprintAsBitVect\n",
    "from sklearn.metrics import average_precision_score,roc_auc_score\n",
    "from sklearn.model_selection import GridSearchCV, StratifiedKFold\n",
    "\n",
    "#更换算法时修改\n",
    "import xgboost as xgb\n",
    "algorithm = 'XGBoost'"
   ]
  },
  {
   "cell_type": "code",
   "execution_count": null,
   "metadata": {},
   "outputs": [],
   "source": [
    "# PRAUC and ROCAUC\n",
    "def nested_cv(X,y):\n",
    "\n",
    "    # 更换算法时修改\n",
    "    model = xgb.XGBClassifier(tree_method='gpu_hist', gpu_id=0)\n",
    "    param_grid = {\n",
    "        'scale_pos_weight':[1,5,10],\n",
    "        'n_estimators':range(50,200,50),\n",
    "        'max_depth':range(1,5,2)\n",
    "    }\n",
    "    \n",
    "    # Set up outer cross-validation loop\n",
    "    outer_cv = StratifiedKFold(n_splits=3, shuffle=True, random_state=1)\n",
    "\n",
    "    prauc_scores = []\n",
    "    rocauc_scores = []\n",
    "    prauc_best_params = []\n",
    "    rocauc_best_params = []\n",
    "\n",
    "    # Execute outer splits\n",
    "    for train_index, test_index in outer_cv.split(X, y):\n",
    "        X_train, X_test = X[train_index, :], X[test_index, :]\n",
    "        y_train, y_test = y[train_index], y[test_index]\n",
    "\n",
    "        # Set up inner cross-validation loop\n",
    "        inner_cv = StratifiedKFold(n_splits=2, shuffle=True, random_state=1)\n",
    "\n",
    "        # Create GridSearchCV object\n",
    "        clf1 = GridSearchCV(estimator=model, param_grid=param_grid, cv=inner_cv, scoring='average_precision', error_score='raise', n_jobs=6)\n",
    "        clf2 = GridSearchCV(estimator=model, param_grid=param_grid, cv=inner_cv, scoring='roc_auc', error_score='raise', n_jobs=6)\n",
    "\n",
    "        # Fit GridSearchCV on the training set\n",
    "        clf1.fit(X_train, y_train)\n",
    "        clf2.fit(X_train, y_train)\n",
    "\n",
    "        # Predict probabilities on the test set\n",
    "        y_pred_proba1 = clf1.predict_proba(X_test)\n",
    "        y_pred_proba2 = clf2.predict_proba(X_test)\n",
    "\n",
    "        # Calculate PR AUC score for the fold\n",
    "        prauc_score = average_precision_score(y_test, y_pred_proba1[:, 1])\n",
    "        rocauc_score = roc_auc_score(y_test, y_pred_proba2[:, 1])\n",
    "\n",
    "        prauc_scores.append(prauc_score)\n",
    "        prauc_best_params.append(clf1.best_params_)\n",
    "        rocauc_scores.append(rocauc_score)\n",
    "        rocauc_best_params.append(clf2.best_params_)\n",
    "        \n",
    "\n",
    "    # Calculate average PR AUC score across all folds\n",
    "    average_prauc_score = np.mean(prauc_scores)\n",
    "    average_rocauc_score = np.mean(rocauc_scores)\n",
    "\n",
    "    # Determine the best parameters based on the highest average PR AUC score\n",
    "    best_prauc_params_overall = prauc_best_params[np.argmax(prauc_scores)]\n",
    "    best_rocauc_params_overall = rocauc_best_params[np.argmax(rocauc_scores)]\n",
    "    \n",
    "    return best_prauc_params_overall, average_prauc_score, best_rocauc_params_overall, average_rocauc_score"
   ]
  },
  {
   "cell_type": "code",
   "execution_count": null,
   "id": "625afd76-3b18-46d5-883d-67030faa1981",
   "metadata": {
    "tags": []
   },
   "outputs": [],
   "source": [
    "# Read file information in a folder\n",
    "def get_file_list(file_folder):\n",
    "    for root, dirs, file_list in os.walk(file_folder):\n",
    "        return file_list\n",
    "\n",
    "\n",
    "# SMILES to fingerprint feature conversion / Different combinations of fingerprint features\n",
    "def batchECFP(smiles, radius=3, nBits=2048):\n",
    "    smiles = np.array(smiles)\n",
    "    n = len(smiles)\n",
    "    fingerprints_0 = np.zeros((n, nBits), dtype=int)\n",
    "    fingerprints_1 = np.zeros((n, nBits), dtype=int)\n",
    "    MACCSArray = []\n",
    "    for i in range(n):\n",
    "        mol = MolFromSmiles(smiles[i])\n",
    "        # ecfp6\n",
    "        fp = GetMorganFingerprintAsBitVect(mol, radius, nBits=nBits)\n",
    "        # fcfp6\n",
    "        fp_1 = GetMorganFingerprintAsBitVect(\n",
    "            mol, radius, nBits=nBits, useFeatures=True)\n",
    "        # MACCS\n",
    "        MACCSArray.append(MACCSkeys.GenMACCSKeys(mol))\n",
    "        fingerprints_0[i] = np.array(list(fp.ToBitString()))\n",
    "        fingerprints_1[i] = np.array(list(fp_1.ToBitString()))\n",
    "    fingerprints_2 = np.array(MACCSArray)\n",
    "    fingerprints = np.hstack((fingerprints_0, fingerprints_1, fingerprints_2))\n",
    "    fingerprints_3 = np.hstack((fingerprints_0, fingerprints_1))\n",
    "    fingerprints_4 = np.hstack((fingerprints_0, fingerprints_2))\n",
    "    fingerprints_5 = np.hstack((fingerprints_1, fingerprints_2))\n",
    "    if FingerPrint == \"ecfp6fcfp6MACCS\":\n",
    "        fingerprints_out = fingerprints\n",
    "    elif FingerPrint == \"ecfp6\":\n",
    "        fingerprints_out = fingerprints_0\n",
    "    elif FingerPrint == \"fcfp6\":\n",
    "        fingerprints_out = fingerprints_1\n",
    "    elif FingerPrint == \"MACCS\":\n",
    "        fingerprints_out = fingerprints_2\n",
    "    elif FingerPrint == \"ecfp6fcfp6\":\n",
    "        fingerprints_out = fingerprints_3\n",
    "    elif FingerPrint== \"ecfp6MACCS\":\n",
    "        fingerprints_out = fingerprints_4\n",
    "    elif FingerPrint == \"fcfp6MACCS\":\n",
    "        fingerprints_out = fingerprints_5\n",
    "\n",
    "    return fingerprints_out"
   ]
  },
  {
   "cell_type": "code",
   "execution_count": 4,
   "id": "3330f73d-cea7-472f-bae8-2568efad0c1e",
   "metadata": {
    "tags": []
   },
   "outputs": [
    {
     "name": "stderr",
     "output_type": "stream",
     "text": [
      "100%|██████████| 30/30 [39:29<00:00, 78.99s/it]\n"
     ]
    },
    {
     "name": "stdout",
     "output_type": "stream",
     "text": [
      "TCM2000_100t ecfp6fcfp6\n"
     ]
    },
    {
     "name": "stderr",
     "output_type": "stream",
     "text": [
      "100%|██████████| 30/30 [42:57<00:00, 85.92s/it]\n"
     ]
    },
    {
     "name": "stdout",
     "output_type": "stream",
     "text": [
      "TCM2000_100t ecfp6fcfp6MACCS\n"
     ]
    },
    {
     "name": "stderr",
     "output_type": "stream",
     "text": [
      "100%|██████████| 30/30 [42:38<00:00, 85.27s/it]\n"
     ]
    },
    {
     "name": "stdout",
     "output_type": "stream",
     "text": [
      "TCM2000_100t ecfp6MACCS\n"
     ]
    },
    {
     "name": "stderr",
     "output_type": "stream",
     "text": [
      "100%|██████████| 30/30 [39:18<00:00, 78.63s/it]\n"
     ]
    },
    {
     "name": "stdout",
     "output_type": "stream",
     "text": [
      "TCM2000_100t fcfp6\n"
     ]
    },
    {
     "name": "stderr",
     "output_type": "stream",
     "text": [
      "100%|██████████| 30/30 [39:47<00:00, 79.57s/it]\n"
     ]
    },
    {
     "name": "stdout",
     "output_type": "stream",
     "text": [
      "TCM2000_100t fcfp6MACCS\n"
     ]
    },
    {
     "name": "stderr",
     "output_type": "stream",
     "text": [
      "100%|██████████| 30/30 [39:24<00:00, 78.82s/it]\n"
     ]
    },
    {
     "name": "stdout",
     "output_type": "stream",
     "text": [
      "TCM2000_100t MACCS\n"
     ]
    },
    {
     "name": "stderr",
     "output_type": "stream",
     "text": [
      "100%|██████████| 30/30 [36:11<00:00, 72.37s/it]\n"
     ]
    },
    {
     "name": "stdout",
     "output_type": "stream",
     "text": [
      "TCM2000_30t ecfp6\n"
     ]
    },
    {
     "name": "stderr",
     "output_type": "stream",
     "text": [
      "100%|██████████| 128/128 [2:35:25<00:00, 72.86s/it] \n"
     ]
    },
    {
     "name": "stdout",
     "output_type": "stream",
     "text": [
      "TCM2000_30t ecfp6fcfp6\n"
     ]
    },
    {
     "name": "stderr",
     "output_type": "stream",
     "text": [
      "100%|██████████| 128/128 [2:48:39<00:00, 79.06s/it] \n"
     ]
    },
    {
     "name": "stdout",
     "output_type": "stream",
     "text": [
      "TCM2000_30t ecfp6fcfp6MACCS\n"
     ]
    },
    {
     "name": "stderr",
     "output_type": "stream",
     "text": [
      "100%|██████████| 128/128 [2:47:12<00:00, 78.38s/it] \n"
     ]
    },
    {
     "name": "stdout",
     "output_type": "stream",
     "text": [
      "TCM2000_30t ecfp6MACCS\n"
     ]
    },
    {
     "name": "stderr",
     "output_type": "stream",
     "text": [
      "100%|██████████| 128/128 [2:33:47<00:00, 72.09s/it] \n"
     ]
    },
    {
     "name": "stdout",
     "output_type": "stream",
     "text": [
      "TCM2000_30t fcfp6\n"
     ]
    },
    {
     "name": "stderr",
     "output_type": "stream",
     "text": [
      "100%|██████████| 128/128 [2:35:51<00:00, 73.06s/it] \n"
     ]
    },
    {
     "name": "stdout",
     "output_type": "stream",
     "text": [
      "TCM2000_30t fcfp6MACCS\n"
     ]
    },
    {
     "name": "stderr",
     "output_type": "stream",
     "text": [
      "100%|██████████| 128/128 [2:33:42<00:00, 72.05s/it] \n"
     ]
    },
    {
     "name": "stdout",
     "output_type": "stream",
     "text": [
      "TCM2000_30t MACCS\n"
     ]
    },
    {
     "name": "stderr",
     "output_type": "stream",
     "text": [
      "100%|██████████| 128/128 [2:21:56<00:00, 66.54s/it] \n"
     ]
    },
    {
     "name": "stdout",
     "output_type": "stream",
     "text": [
      "TCM2000_50t ecfp6\n"
     ]
    },
    {
     "name": "stderr",
     "output_type": "stream",
     "text": [
      "100%|██████████| 75/75 [1:34:33<00:00, 75.65s/it]\n"
     ]
    },
    {
     "name": "stdout",
     "output_type": "stream",
     "text": [
      "TCM2000_50t ecfp6fcfp6\n"
     ]
    },
    {
     "name": "stderr",
     "output_type": "stream",
     "text": [
      "100%|██████████| 75/75 [1:42:07<00:00, 81.70s/it]\n"
     ]
    },
    {
     "name": "stdout",
     "output_type": "stream",
     "text": [
      "TCM2000_50t ecfp6fcfp6MACCS\n"
     ]
    },
    {
     "name": "stderr",
     "output_type": "stream",
     "text": [
      "100%|██████████| 75/75 [1:40:55<00:00, 80.74s/it]\n"
     ]
    },
    {
     "name": "stdout",
     "output_type": "stream",
     "text": [
      "TCM2000_50t ecfp6MACCS\n"
     ]
    },
    {
     "name": "stderr",
     "output_type": "stream",
     "text": [
      "100%|██████████| 75/75 [1:33:23<00:00, 74.71s/it]\n"
     ]
    },
    {
     "name": "stdout",
     "output_type": "stream",
     "text": [
      "TCM2000_50t fcfp6\n"
     ]
    },
    {
     "name": "stderr",
     "output_type": "stream",
     "text": [
      "100%|██████████| 75/75 [1:34:44<00:00, 75.79s/it]\n"
     ]
    },
    {
     "name": "stdout",
     "output_type": "stream",
     "text": [
      "TCM2000_50t fcfp6MACCS\n"
     ]
    },
    {
     "name": "stderr",
     "output_type": "stream",
     "text": [
      "100%|██████████| 75/75 [1:33:04<00:00, 74.46s/it]\n"
     ]
    },
    {
     "name": "stdout",
     "output_type": "stream",
     "text": [
      "TCM2000_50t MACCS\n"
     ]
    },
    {
     "name": "stderr",
     "output_type": "stream",
     "text": [
      "100%|██████████| 75/75 [1:26:11<00:00, 68.95s/it]\n"
     ]
    },
    {
     "name": "stdout",
     "output_type": "stream",
     "text": [
      "TCM2000_80t ecfp6\n"
     ]
    },
    {
     "name": "stderr",
     "output_type": "stream",
     "text": [
      "100%|██████████| 39/39 [50:52<00:00, 78.26s/it]\n"
     ]
    },
    {
     "name": "stdout",
     "output_type": "stream",
     "text": [
      "TCM2000_80t ecfp6fcfp6\n"
     ]
    },
    {
     "name": "stderr",
     "output_type": "stream",
     "text": [
      "100%|██████████| 39/39 [55:08<00:00, 84.84s/it]\n"
     ]
    },
    {
     "name": "stdout",
     "output_type": "stream",
     "text": [
      "TCM2000_80t ecfp6fcfp6MACCS\n"
     ]
    },
    {
     "name": "stderr",
     "output_type": "stream",
     "text": [
      "100%|██████████| 39/39 [54:49<00:00, 84.34s/it]\n"
     ]
    },
    {
     "name": "stdout",
     "output_type": "stream",
     "text": [
      "TCM2000_80t ecfp6MACCS\n"
     ]
    },
    {
     "name": "stderr",
     "output_type": "stream",
     "text": [
      "100%|██████████| 39/39 [50:32<00:00, 77.75s/it]\n"
     ]
    },
    {
     "name": "stdout",
     "output_type": "stream",
     "text": [
      "TCM2000_80t fcfp6\n"
     ]
    },
    {
     "name": "stderr",
     "output_type": "stream",
     "text": [
      "100%|██████████| 39/39 [51:09<00:00, 78.71s/it]\n"
     ]
    },
    {
     "name": "stdout",
     "output_type": "stream",
     "text": [
      "TCM2000_80t fcfp6MACCS\n"
     ]
    },
    {
     "name": "stderr",
     "output_type": "stream",
     "text": [
      "100%|██████████| 39/39 [50:37<00:00, 77.89s/it]\n"
     ]
    },
    {
     "name": "stdout",
     "output_type": "stream",
     "text": [
      "TCM2000_80t MACCS\n"
     ]
    },
    {
     "name": "stderr",
     "output_type": "stream",
     "text": [
      "100%|██████████| 39/39 [46:35<00:00, 71.68s/it]\n"
     ]
    },
    {
     "name": "stdout",
     "output_type": "stream",
     "text": [
      "TCM_100t ecfp6\n"
     ]
    },
    {
     "name": "stderr",
     "output_type": "stream",
     "text": [
      "100%|██████████| 23/23 [30:23<00:00, 79.27s/it]\n"
     ]
    },
    {
     "name": "stdout",
     "output_type": "stream",
     "text": [
      "TCM_100t ecfp6fcfp6\n"
     ]
    },
    {
     "name": "stderr",
     "output_type": "stream",
     "text": [
      "100%|██████████| 23/23 [32:36<00:00, 85.08s/it]\n"
     ]
    },
    {
     "name": "stdout",
     "output_type": "stream",
     "text": [
      "TCM_100t ecfp6fcfp6MACCS\n"
     ]
    },
    {
     "name": "stderr",
     "output_type": "stream",
     "text": [
      "100%|██████████| 23/23 [32:26<00:00, 84.63s/it]\n"
     ]
    },
    {
     "name": "stdout",
     "output_type": "stream",
     "text": [
      "TCM_100t ecfp6MACCS\n"
     ]
    },
    {
     "name": "stderr",
     "output_type": "stream",
     "text": [
      "100%|██████████| 23/23 [29:45<00:00, 77.63s/it]\n"
     ]
    },
    {
     "name": "stdout",
     "output_type": "stream",
     "text": [
      "TCM_100t fcfp6\n"
     ]
    },
    {
     "name": "stderr",
     "output_type": "stream",
     "text": [
      "100%|██████████| 23/23 [30:18<00:00, 79.06s/it]\n"
     ]
    },
    {
     "name": "stdout",
     "output_type": "stream",
     "text": [
      "TCM_100t fcfp6MACCS\n"
     ]
    },
    {
     "name": "stderr",
     "output_type": "stream",
     "text": [
      "100%|██████████| 23/23 [29:57<00:00, 78.15s/it]\n"
     ]
    },
    {
     "name": "stdout",
     "output_type": "stream",
     "text": [
      "TCM_100t MACCS\n"
     ]
    },
    {
     "name": "stderr",
     "output_type": "stream",
     "text": [
      "100%|██████████| 23/23 [27:40<00:00, 72.18s/it]\n"
     ]
    },
    {
     "name": "stdout",
     "output_type": "stream",
     "text": [
      "TCM_30t ecfp6\n"
     ]
    },
    {
     "name": "stderr",
     "output_type": "stream",
     "text": [
      "100%|██████████| 114/114 [2:17:23<00:00, 72.31s/it] \n"
     ]
    },
    {
     "name": "stdout",
     "output_type": "stream",
     "text": [
      "TCM_30t ecfp6fcfp6\n"
     ]
    },
    {
     "name": "stderr",
     "output_type": "stream",
     "text": [
      "100%|██████████| 114/114 [2:28:21<00:00, 78.08s/it] \n"
     ]
    },
    {
     "name": "stdout",
     "output_type": "stream",
     "text": [
      "TCM_30t ecfp6fcfp6MACCS\n"
     ]
    },
    {
     "name": "stderr",
     "output_type": "stream",
     "text": [
      "100%|██████████| 114/114 [2:27:59<00:00, 77.89s/it] \n"
     ]
    },
    {
     "name": "stdout",
     "output_type": "stream",
     "text": [
      "TCM_30t ecfp6MACCS\n"
     ]
    },
    {
     "name": "stderr",
     "output_type": "stream",
     "text": [
      "100%|██████████| 114/114 [2:16:05<00:00, 71.63s/it] \n"
     ]
    },
    {
     "name": "stdout",
     "output_type": "stream",
     "text": [
      "TCM_30t fcfp6\n"
     ]
    },
    {
     "name": "stderr",
     "output_type": "stream",
     "text": [
      "100%|██████████| 114/114 [2:17:58<00:00, 72.62s/it] \n"
     ]
    },
    {
     "name": "stdout",
     "output_type": "stream",
     "text": [
      "TCM_30t fcfp6MACCS\n"
     ]
    },
    {
     "name": "stderr",
     "output_type": "stream",
     "text": [
      "100%|██████████| 114/114 [2:16:11<00:00, 71.68s/it] \n"
     ]
    },
    {
     "name": "stdout",
     "output_type": "stream",
     "text": [
      "TCM_30t MACCS\n"
     ]
    },
    {
     "name": "stderr",
     "output_type": "stream",
     "text": [
      "100%|██████████| 114/114 [2:05:54<00:00, 66.27s/it] \n"
     ]
    },
    {
     "name": "stdout",
     "output_type": "stream",
     "text": [
      "TCM_50t ecfp6\n"
     ]
    },
    {
     "name": "stderr",
     "output_type": "stream",
     "text": [
      "100%|██████████| 56/56 [1:10:38<00:00, 75.68s/it]\n"
     ]
    },
    {
     "name": "stdout",
     "output_type": "stream",
     "text": [
      "TCM_50t ecfp6fcfp6\n"
     ]
    },
    {
     "name": "stderr",
     "output_type": "stream",
     "text": [
      "100%|██████████| 56/56 [1:16:03<00:00, 81.49s/it]\n"
     ]
    },
    {
     "name": "stdout",
     "output_type": "stream",
     "text": [
      "TCM_50t ecfp6fcfp6MACCS\n"
     ]
    },
    {
     "name": "stderr",
     "output_type": "stream",
     "text": [
      "100%|██████████| 56/56 [1:13:27<00:00, 78.71s/it]\n"
     ]
    },
    {
     "name": "stdout",
     "output_type": "stream",
     "text": [
      "TCM_50t ecfp6MACCS\n"
     ]
    },
    {
     "name": "stderr",
     "output_type": "stream",
     "text": [
      "100%|██████████| 56/56 [32:06<00:00, 34.41s/it]\n"
     ]
    },
    {
     "name": "stdout",
     "output_type": "stream",
     "text": [
      "TCM_50t fcfp6\n"
     ]
    },
    {
     "name": "stderr",
     "output_type": "stream",
     "text": [
      "100%|██████████| 56/56 [32:35<00:00, 34.92s/it]\n"
     ]
    },
    {
     "name": "stdout",
     "output_type": "stream",
     "text": [
      "TCM_50t fcfp6MACCS\n"
     ]
    },
    {
     "name": "stderr",
     "output_type": "stream",
     "text": [
      "100%|██████████| 56/56 [32:03<00:00, 34.35s/it]\n"
     ]
    },
    {
     "name": "stdout",
     "output_type": "stream",
     "text": [
      "TCM_50t MACCS\n"
     ]
    },
    {
     "name": "stderr",
     "output_type": "stream",
     "text": [
      "100%|██████████| 56/56 [27:50<00:00, 29.83s/it]\n"
     ]
    },
    {
     "name": "stdout",
     "output_type": "stream",
     "text": [
      "TCM_80t ecfp6\n"
     ]
    },
    {
     "name": "stderr",
     "output_type": "stream",
     "text": [
      "100%|██████████| 31/31 [19:08<00:00, 37.04s/it]\n"
     ]
    },
    {
     "name": "stdout",
     "output_type": "stream",
     "text": [
      "TCM_80t ecfp6fcfp6\n"
     ]
    },
    {
     "name": "stderr",
     "output_type": "stream",
     "text": [
      "100%|██████████| 31/31 [22:08<00:00, 42.84s/it]\n"
     ]
    },
    {
     "name": "stdout",
     "output_type": "stream",
     "text": [
      "TCM_80t ecfp6fcfp6MACCS\n"
     ]
    },
    {
     "name": "stderr",
     "output_type": "stream",
     "text": [
      "100%|██████████| 31/31 [22:02<00:00, 42.66s/it]\n"
     ]
    },
    {
     "name": "stdout",
     "output_type": "stream",
     "text": [
      "TCM_80t ecfp6MACCS\n"
     ]
    },
    {
     "name": "stderr",
     "output_type": "stream",
     "text": [
      "100%|██████████| 31/31 [18:48<00:00, 36.40s/it]\n"
     ]
    },
    {
     "name": "stdout",
     "output_type": "stream",
     "text": [
      "TCM_80t fcfp6\n"
     ]
    },
    {
     "name": "stderr",
     "output_type": "stream",
     "text": [
      "100%|██████████| 31/31 [19:04<00:00, 36.93s/it]\n"
     ]
    },
    {
     "name": "stdout",
     "output_type": "stream",
     "text": [
      "TCM_80t fcfp6MACCS\n"
     ]
    },
    {
     "name": "stderr",
     "output_type": "stream",
     "text": [
      "100%|██████████| 31/31 [18:44<00:00, 36.29s/it]\n"
     ]
    },
    {
     "name": "stdout",
     "output_type": "stream",
     "text": [
      "TCM_80t MACCS\n"
     ]
    },
    {
     "name": "stderr",
     "output_type": "stream",
     "text": [
      "100%|██████████| 31/31 [16:03<00:00, 31.07s/it]\n"
     ]
    }
   ],
   "source": [
    "# make results directory \n",
    "FingerPrintSet = ['ecfp6','ecfp6fcfp6','ecfp6fcfp6MACCS','ecfp6MACCS','fcfp6','fcfp6MACCS','MACCS']\n",
    "for FingerPrint in FingerPrintSet:\n",
    "    FingerPrint_path = './results/'+FingerPrint\n",
    "    if os.path.isdir(FingerPrint_path):  \n",
    "        pass\n",
    "    else:\n",
    "        os.makedirs(FingerPrint_path)\n",
    "\n",
    "\n",
    "#文件路径准备\n",
    "basePath = os.getcwd()\n",
    "resultPath = basePath+'/results'\n",
    "training_path = basePath+'/training_data'\n",
    "training_list = os.listdir(training_path)\n",
    "\n",
    "\n",
    "for training_list_set in training_list:\n",
    "\n",
    "    pertarget_files = training_path+'/'+training_list_set\n",
    "\n",
    "    # 测试时修改\n",
    "    files_list = get_file_list(pertarget_files)\n",
    "\n",
    "    #指纹组合\n",
    "    FingerPrintSet = ['ecfp6','ecfp6fcfp6','ecfp6fcfp6MACCS','ecfp6MACCS','fcfp6','fcfp6MACCS','MACCS']\n",
    "\n",
    "\n",
    "    # 遍历所有的指纹组合\n",
    "\n",
    "    for FingerPrint in FingerPrintSet:    \n",
    "        \n",
    "        targets = []\n",
    "        prauc_params = []\n",
    "        prauc_score = []\n",
    "        rocauc_params = []\n",
    "        rocauc_score = []\n",
    "        \n",
    "        #遍历每个文件，编码features，执行nested_cv\n",
    "        print(training_list_set, FingerPrint)\n",
    "        for tar_id in tqdm.tqdm(files_list):\n",
    "            data = pd.read_csv(pertarget_files+'/'+tar_id, header=0,index_col=False)\n",
    "            features = batchECFP(data.iloc[:,2])\n",
    "            y = data.iloc[:,4]\n",
    "            result = nested_cv(features,y)\n",
    "\n",
    "            #记录信息，为输出文件作准备\n",
    "            chembl_id = tar_id.split('.')[0]\n",
    "            targets.append(chembl_id)\n",
    "            prauc_params.append(result[0])\n",
    "            prauc_score.append(result[1])\n",
    "            rocauc_params.append(result[2])\n",
    "            rocauc_score.append(result[3])\n",
    "\n",
    "        #整理文件内容,并输出\n",
    "        data={'targets':targets,'prauc_params':prauc_params, 'prauc_score':prauc_score, \n",
    "            'rocauc_params':rocauc_params, 'rocauc_score':rocauc_score}\n",
    "        roc_data = pd.DataFrame(data) \n",
    "        roc_data.to_csv(resultPath+'/'+FingerPrint+'/'+FingerPrint+'_'+algorithm+'_'+training_list_set+'_rocmean.csv',index=False)\n"
   ]
  }
 ],
 "metadata": {
  "kernelspec": {
   "display_name": "base",
   "language": "python",
   "name": "python3"
  },
  "language_info": {
   "codemirror_mode": {
    "name": "ipython",
    "version": 3
   },
   "file_extension": ".py",
   "mimetype": "text/x-python",
   "name": "python",
   "nbconvert_exporter": "python",
   "pygments_lexer": "ipython3",
   "version": "3.9.18"
  }
 },
 "nbformat": 4,
 "nbformat_minor": 5
}
